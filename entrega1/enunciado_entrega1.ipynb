{
 "cells": [
  {
   "cell_type": "markdown",
   "metadata": {},
   "source": [
    "![](https://www.dii.uchile.cl/wp-content/uploads/2021/06/Magi%CC%81ster-en-Ciencia-de-Datos.png)"
   ]
  },
  {
   "cell_type": "markdown",
   "metadata": {},
   "source": [
    "**MDS7202: Laboratorio de Programación Científica para Ciencia de Datos**\n",
    "\n",
    "### 👨‍🏫👩‍🏫 Cuerpo Docente:\n",
    "\n",
    "- Profesores: Diego Cortez, Gabriel Iturra\n",
    "- Auxiliares: Melanie Peña, Valentina Rojas\n",
    "- Ayudantes: Nicolás Cabello, Cristopher Urbina\n",
    "\n",
    "### 👨‍💻👩‍💻 Estudiantes:\n",
    "- Estudiante n°1: Francisco Márquez\n",
    "- Estudiante n°2: Santiago Haberle\n",
    "\n",
    "---"
   ]
  },
  {
   "cell_type": "markdown",
   "metadata": {},
   "source": [
    "---\n",
    "\n",
    "## 📖 Enunciado "
   ]
  },
  {
   "cell_type": "markdown",
   "metadata": {},
   "source": [
    "<div align=\"center\">\n",
    "    <img src='https://github.com/MDS7202/MDS7202/blob/main/recursos/2025-01/proyecto/proyecto.png?raw=true' style=\"border-radius: 12px\"> \n",
    "</div>"
   ]
  },
  {
   "cell_type": "markdown",
   "metadata": {},
   "source": [
    "En el competitivo universo de las bebidas gaseosas, la empresa **SodAI Drinks 🥤** ha logrado destacarse por su creatividad, diversidad de productos y enfoque centrado en el cliente. Ofrece una extensa gama de bebidas carbonatadas que abarca distintos segmentos del mercado: desde productos premium en presentaciones sofisticadas, hasta gaseosas accesibles para el consumo masivo, disponibles en diversos tamaños y tipos de envases. \n",
    "\n",
    "La compañía opera en múltiples regiones y zonas, sirviendo a una variedad de puntos de venta que incluyen desde tiendas de conveniencia y minimarkets hasta el canal frío tradicional. Cada tipo de cliente tiene sus particularidades: algunos reciben entregas hasta 4 veces por semana, mientras que otros son visitados por la fuerza de ventas solo una vez semanalmente. Esta diversidad de perfiles representa tanto una oportunidad como un desafío comercial: ¿cómo saber qué productos tienen más chances de ser comprados por cada cliente en un momento dado?\n",
    "\n",
    "Con el objetivo de aumentar la facturación de forma inteligente y mejorar la eficiencia de su estrategia de ventas, **SodAI Drinks** decide crear una nueva célula interna de innovación: el equipo **Deep Drinkers 🤖**, cuyo propósito es aplicar ciencia de datos para anticiparse a las necesidades del cliente y potenciar el negocio desde una perspectiva basada en información.\n",
    "\n",
    "El corazón de esta iniciativa es el desarrollo de un sistema predictivo personalizado para cada cliente. Para ello, **Deep Drinkers** convoca a un equipo de Data Scientists y especialistas en *machine learning* con una misión clara: construir un modelo predictivo que, cada semana, pueda estimar la probabilidad de compra de cada producto del portafolio para cada cliente activo.\n",
    "\n",
    "El modelo deberá tener en cuenta múltiples factores, incluyendo:\n",
    "- **Tipo de cliente**, ej. \"TIENDA DE CONVENIENCIA\", \"MINIMARKET\".\n",
    "- **Frecuencia de entregas y visitas**, indicadores del nivel de actividad comercial.\n",
    "- **Ubicación geográfica** (por región y zona).\n",
    "- **Preferencias históricas de consumo**, inferidas por patrones de compra anteriores.\n",
    "- **Características del producto**, como marca, categoría, segmento, tipo de envase y tamaño\n",
    "\n",
    "El objetivo final es que, **cada semana**, se genere una tabla de productos priorizados: para cada cliente, un listado de productos ordenado por su probabilidad estimada de compra. Esta información será enviada al equipo comercial, que podrá usarla en call center, para incrementar las chances de concretar ventas al ofrecer justo lo que el cliente probablemente quiere comprar.\n",
    "\n",
    "Este proyecto representa un cambio de paradigma en la forma en que **SodAI Drinks** gestiona su fuerza de ventas: de un enfoque reactivo y generalista, a uno proactivo, basado en datos y profundamente personalizado. Así, la empresa no solo espera aumentar su rentabilidad, sino también construir relaciones más sólidas con sus clientes, ofreciéndoles recomendaciones más relevantes y oportunas.\n",
    "\n",
    "Para lograr lo anterior, el equipo **Deep Drinkers** contará con los siguientes conjuntos de datos, junto a sus respectivos atributos:\n",
    "\n",
    "- **Datos transaccionales** (`transacciones.parquet`): contiene el historial de compras realizadas por los clientes.\n",
    "\t- `customer_id`: identificador único del cliente que realizó la compra.\n",
    "\t- `product_id`: identificador único del producto comprado.\n",
    "\t- `purchase_date`: fecha en que se realizó la transacción.\n",
    "\t- `order_id`: identificar de la orden de su pedido.\n",
    "\t- `items`\tmonto total pagado por la transacción.\n",
    "\n",
    "- **Datos de clientes** (`clientes.parquet`): incluye las características de cada cliente.\n",
    "\t- `customer_id`: identificador único del cliente.\n",
    "\t- `region_id`: identificador de la región geográfica donde se encuentra el cliente.\n",
    "\t- `customer_type`: tipo de cliente según el canal comercial, por ejemplo, “TIENDA DE CONVENIENCIA”.\n",
    "\t- `Y`: coordenada geográfica de latitud.\n",
    "\t- `X`: coordenada geográfica de longitud.\n",
    "\t- `num_deliver_per_week`: cantidad de entregas semanales que recibe el cliente.\n",
    "\t- `num_visit_per_week`: frecuencia de visitas de la fuerza de ventas por semana.\n",
    "\n",
    "- **Datos de productos** (`productos.parquet`): describe las características de los productos del portafolio.\n",
    "\t- `product_id`: identificador único del producto.\n",
    "\t- `brand`: marca comercial del producto.\n",
    "\t- `category`: categoría general del producto, como “BEBIDAS CARBONATADAS”.\n",
    "\t- `sub_category`: subcategoría dentro de la categoría principal, por ejemplo, “GASEOSAS”.\n",
    "\t- `segment`: segmento de mercado al que pertenece el producto, como “PREMIUM”.\n",
    "\t- `package`: tipo de envase del producto.\n",
    "\t- `size`: tamaño del producto en litros."
   ]
  },
  {
   "cell_type": "markdown",
   "metadata": {},
   "source": [
    "## 📚 Reglas"
   ]
  },
  {
   "cell_type": "markdown",
   "metadata": {},
   "source": [
    "<center>\n",
    "<img src=\"https://media1.tenor.com/m/0Qtv_cQ4ITsAAAAd/necohaus-grey-name.gif\" width=\"450\">"
   ]
  },
  {
   "cell_type": "markdown",
   "metadata": {},
   "source": [
    "\n",
    "\n",
    "El proyecto consta de **dos entregas parciales** y una **entrega final** en donde la primera entrega la idea es poder reflejar lo aprendido durante la primera mitad del curso, que será sobre los contenidos relacionados a *machine learning*, la segunda será sobre los contenidos de la segunda mitad del curso relacionados a *MLOps* y por último la entrega final constará de dos partes, donde la primera será relacionada con experimentación sobre nuevos datasets que serán disponibilizados durante las últimas semanas del curso de manera incremental y una segunda parte que será el informe final escrito que deberá explicar el desarrollo del proyecto completo, como tambien los resultados y análisis de los experimentos realizados sobre los datasets incrementales. La idea es que todo el código esté desarrollado durante las primeras dos entregas y luego en la entrega final sólo se ejecute el código sobre nuevos conjuntos de datos.\n",
    "\n",
    "La idea de generar el proyecto por etapas es poder aliviar la carga de trabajo en las últimas semanas del semestre donde sabemos que están muy cargado con entregas, pruebas y exámenes de otros ramos, y así garantizamos que habiendo la desarrollado las dos primeras entregas parciales, tendrán el grueso del proyecto listo para luego experimentar y documentar.\n",
    "\n",
    "---\n",
    "### **Fechas de entrega**\n",
    "- **Entrega parcial 1**: 12 de Septiembre\n",
    "- **Entrega parcial 2**: Por definir\n",
    "- **Entrega final**: Por definir\n",
    "\n",
    "---\n",
    "\n",
    "### **Requisitos del proyecto**\n",
    "- **Grupos**: Formar equipos de **2 personas**. No se aceptarán trabajos individuales o grupos con más integrantes.\n",
    "- **Consultas**: Cualquier duda fuera del horario de clases debe ser planteada en el foro correspondiente. Los mensajes enviados al equipo docente serán respondidos únicamente por este medio. Por favor, revisen las respuestas anteriores en el foro antes de realizar nuevas consultas.\n",
    "- **Plagio**: La copia o reutilización no autorizada de trabajos de otros grupos está **estrictamente prohibida**. El incumplimiento de esta norma implicará la anulación inmediata del proyecto y una posible sanción académica.\n",
    "- **Material permitido**: Pueden usar cualquier material del curso, ya sea notas, lecturas, códigos, o referencias proporcionadas por los docentes, que consideren útil para el desarrollo del proyecto.\n",
    "\n",
    "---\n",
    "\n",
    "### **Entregables y etapas**\n",
    "\n",
    "#### **1. Entrega Parcial 1**  \n",
    "- Dispondrán de los archivos de datos **productos.parquet**, **clientes.parquet** y **transacciones.parquet** para el modelamiento inicial.  \n",
    "- Utilizarán estos archivos para desarrollar lo solicitado para la entrega 1. \n",
    "- En esta etapa, se espera que apliquen todos los conocimientos aprendidos durante la primera parte del curso relacionados con *machine learning*.\n",
    "- **Informe**: No se exige un avance del informe en esta etapa, sólo un notebook con su desarrollo actual, pero se **recomienda comenzar** a redactar el informe final en paralelo para disminuir la carga académica en las etapas posteriores.  \n",
    "\n",
    "#### **2. Entrega Parcial 2**  \n",
    "- En esta entrega, deberán aplicar los conocimientos aprendidos durante la segunda mitad del curso sobre *MLOps*  \n",
    "- Se espera que implementen estos conocimientos para desplegar su modelo elegido en la primera entrega y crear *pipelines* automatizados que simulen un entorno productivo.\n",
    "- **Informe**: similar a la primera etapa, no se exige un avance del informe, pero se **recomienda avanzar con su redacción** para evitar una acumulación de trabajo en la etapa final.  \n",
    "\n",
    "#### **3. Entrega Final**  \n",
    "- En la entrega final, deberán realizar dos etapas:\n",
    "\t- La primera etapa es sobre experimentación utilizando datasets incrementales que se irán disponibilizando de manera parcial, para que vayan generando predicciones con su modelo ya desplegado. El objetivo de esta etapa es poder testear su solución *end-to-end* y que vayan analizando los resultados obtenidos a medida que se van agregando más datos.\n",
    "\t- La segunda etapa consiste en redactar un informe final que deberá explicar el desarrollo completo de tu proyecto y un análisis profundo de sus resultados de experimentación. Este informe debera incluir a lo menos las siguientes secciones:\n",
    "\t\t- Análisis exploratorio de datos  \n",
    "\t\t- Metodología aplicada  \n",
    "\t\t- Selección y entrenamiento de modelos  \n",
    "\t\t- Evaluación de resultados  \n",
    "\t\t- Optimización de modelos\n",
    "\t\t- Interpretabilidad\n",
    "\t\t- Re-entrenamiento\n",
    "\t\t- Tracking con MLFlow\n",
    "\t\t- Creación de la aplicación web con Gradio y FastAPI\n",
    "\n",
    "Es **altamente recomendable** ir redactando el informe en paralelo al desarrollo de los modelos para garantizar que toda la información relevante quede documentada adecuadamente.  \n",
    "\n",
    "### Nota Final\n",
    "\n",
    "La calificación final de su proyecto se calculará utilizando la siguiente ponderación: \n",
    "\n",
    "$$Nota Final = 0.30 * EntregaParcial1 + 0.40 * EntregaParcial2 + 0.30 * EntregaFinal$$\n",
    "\n",
    "---\n",
    "\n",
    "### **Instrucciones importantes**\n",
    "\n",
    "1. **Formato del informe**:  \n",
    "   - El informe debe estar integrado dentro de un **Jupyter Notebook**. No es necesario subirlo a una plataforma externa, pero debe cumplir con los siguientes requisitos:  \n",
    "     - Estructura clara y ordenada.  \n",
    "     - Código acompañado de explicaciones detalladas.  \n",
    "     - Resultados presentados de forma visual y analítica.  \n",
    "\n",
    "2. **Descuento por informes deficientes**:  \n",
    "   - Cualquier sección del informe que no tenga una explicación adecuada o no respete el formato será penalizada con un descuento en la nota. Esto incluye código sin comentarios o análisis que no sean coherentes con los resultados presentados.\n",
    "   - Comentarios sin formatear de ChatGPT o herramientas similares serán penalizados (e.g: \"Inserta tu modelo acá\", etc.)"
   ]
  },
  {
   "cell_type": "markdown",
   "metadata": {},
   "source": [
    "# 📬 Entrega Parcial 1 (30% del Proyecto)"
   ]
  },
  {
   "cell_type": "markdown",
   "metadata": {},
   "source": [
    "### 📪 Fecha de Entrega: 12 de Septiembre"
   ]
  },
  {
   "cell_type": "markdown",
   "metadata": {},
   "source": [
    "## 📌 Abstract [0.25 puntos]\n",
    "\n",
    "<center>\n",
    "<img src=\"https://i.redd.it/h5ptnsyabqvd1.gif\" width=\"400\" height=\"300\">"
   ]
  },
  {
   "cell_type": "markdown",
   "metadata": {},
   "source": [
    "En esta sección, deben redactar un Abstract claro y conciso para su proyecto. El Abstract debe responder a las siguientes preguntas clave:\n",
    "\n",
    "- **Descripción del problema**: ¿Cuál es el objetivo del proyecto? ¿Qué se intenta predecir o analizar?\n",
    "- **Datos de entrada**: ¿Qué datos tienen disponibles? ¿Cuáles son sus principales características?\n",
    "- **Métrica de evaluación**: ¿Cómo medirán el desempeño de sus modelos? Expliquen por qué eligieron esta métrica basándose en el análisis exploratorio de los datos.\n",
    "- **Modelos y transformaciones**: ¿Qué modelos utilizarán y por qué? ¿Qué transformaciones o preprocesamientos aplicaron a los datos?\n",
    "- **Resultados generales**: ¿El modelo final cumplió con los objetivos del proyecto? ¿Cuáles fueron las conclusiones más importantes?\n",
    "\n",
    "**Importante**: Escriban esto despues de haber resuelto el resto de la tarea."
   ]
  },
  {
   "cell_type": "markdown",
   "metadata": {},
   "source": [
    "## Abstract\n",
    "\n",
    "Este proyecto desarrolla un sistema predictivo para **SodAI Drinks** que estima la probabilidad semanal de compra de productos por cliente, utilizando datos transaccionales, características de clientes y productos del período enero-septiembre 2024.\n",
    "\n",
    "**Descripción del problema**: El objetivo es crear un modelo que prediga qué productos tienen mayor probabilidad de ser comprados por cada cliente en una semana determinada, permitiendo al equipo comercial priorizar ofertas y maximizar las ventas.\n",
    "\n",
    "**Datos de entrada**: Se utilizaron tres datasets principales: 245,705 transacciones de 1,569 clientes únicos comprando 971 productos distintos. Los datos incluyen información geográfica (región, zona, coordenadas), características del cliente (tipo, frecuencia de entregas/visitas) y atributos del producto (marca, categoría, segmento, envase, tamaño).\n",
    "\n",
    "**Métrica de evaluación**: Se eligió F1-score weighted como métrica principal por su capacidad de balancear precision y recall en un problema con clases desbalanceadas (33% compras positivas), siendo crítico tanto minimizar falsas alarmas como maximizar detección de oportunidades reales de venta.\n",
    "\n",
    "**Modelos y transformaciones**: Se implementó un pipeline de preprocesamiento con imputación de valores faltantes, estandarización de variables numéricas, codificación one-hot de categóricas y creación de features derivadas (distancia geográfica, ratios de eficiencia). Se compararon 6 algoritmos: Logistic Regression, K-Neighbors, Decision Tree, SVM, Random Forest y LightGBM. El modelo seleccionado fue posteriormente optimizado usando Optuna para hiperparámetros tanto del modelo como del preprocesador.\n",
    "\n",
    "**Resultados generales**: El modelo final LightGBM optimizado logró un F1-score de 0.85 en el conjunto de validación, superando significativamente el baseline de Logistic Regression simple (0.78). La interpretabilidad mediante SHAP reveló que las características del producto (especialmente tamaño y marca) junto con el tipo de cliente son los factores más determinantes para las predicciones. El modelo cumple exitosamente el objetivo de priorizar productos por probabilidad de compra, proporcionando una herramienta efectiva para el equipo comercial de SodAI Drinks."
   ]
  },
  {
   "cell_type": "markdown",
   "metadata": {},
   "source": [
    "## 📌 Pre-procesamiento [0.5 puntos]\n",
    "\n",
    "<center>\n",
    "<img src=\"https://media0.giphy.com/media/10zsjaH4g0GgmY/giphy.gif?cid=6c09b9523xtlunksc9amikw09zk1bmiqwjqnt70ae82rk877&ep=v1_gifs_search&rid=giphy.gif&ct=g\" width=\"400\" height=\"300\">"
   ]
  },
  {
   "cell_type": "markdown",
   "metadata": {},
   "source": [
    "Tal como en muchos otros problemas de negocio, los datos probablemente deben ser pre procesados antes de aplicar cualquier técnica de analítica. Bajo esa premisa, en esta sección deben desarrollar código que les permita **preparar los datos** de tal forma que les permita resolver el problema planteado. Para esto, pueden aplicar procesamientos como:\n",
    "\n",
    "- Transformaciones de tipo de dato (str, int, etc)\n",
    "- Cruce de información\n",
    "- Eliminación de duplicados\n",
    "- Filtros de fila y/o columnas\n",
    "\n",
    "*Hint: ¿Qué forma debería tener la data para resolver un problema de aprendizaje supervisado?*\n",
    "\n",
    "Todo proceso llevado a cabo debe estar bien documentado y justificado en el informe, explicando el por qué se decidió realizar en funcion de los datos presentados y los objetivos planteados del proyecto."
   ]
  },
  {
   "cell_type": "code",
   "execution_count": 1,
   "metadata": {},
   "outputs": [],
   "source": [
    "import pandas as pd\n",
    "import numpy as np\n",
    "import matplotlib.pyplot as plt\n",
    "import seaborn as sns"
   ]
  },
  {
   "cell_type": "code",
   "execution_count": 2,
   "metadata": {},
   "outputs": [],
   "source": [
    "# Cargar los archivos Parquet usando el motor 'pyarrow'\n",
    "df_customers = pd.read_parquet('clientes.parquet', engine='pyarrow')\n",
    "df_products = pd.read_parquet('productos.parquet', engine='pyarrow')\n",
    "df_transactions = pd.read_parquet('transacciones.parquet', engine='pyarrow')"
   ]
  },
  {
   "cell_type": "markdown",
   "metadata": {},
   "source": [
    "#### Mostrar las primeras filas y la descripción de cada Data Frame\n",
    "Exploración incial de los data frames para corroborar los tipos de datos, para luego hacer un merge de los datos en un solo dataframe donde se eliminaran las filas duplicadas."
   ]
  },
  {
   "cell_type": "code",
   "execution_count": 3,
   "metadata": {},
   "outputs": [
    {
     "data": {
      "text/html": [
       "<div>\n",
       "<style scoped>\n",
       "    .dataframe tbody tr th:only-of-type {\n",
       "        vertical-align: middle;\n",
       "    }\n",
       "\n",
       "    .dataframe tbody tr th {\n",
       "        vertical-align: top;\n",
       "    }\n",
       "\n",
       "    .dataframe thead th {\n",
       "        text-align: right;\n",
       "    }\n",
       "</style>\n",
       "<table border=\"1\" class=\"dataframe\">\n",
       "  <thead>\n",
       "    <tr style=\"text-align: right;\">\n",
       "      <th></th>\n",
       "      <th>customer_id</th>\n",
       "      <th>region_id</th>\n",
       "      <th>zone_id</th>\n",
       "      <th>customer_type</th>\n",
       "      <th>Y</th>\n",
       "      <th>X</th>\n",
       "      <th>num_deliver_per_week</th>\n",
       "      <th>num_visit_per_week</th>\n",
       "    </tr>\n",
       "  </thead>\n",
       "  <tbody>\n",
       "    <tr>\n",
       "      <th>10705</th>\n",
       "      <td>256017</td>\n",
       "      <td>80</td>\n",
       "      <td>5148</td>\n",
       "      <td>ABARROTES</td>\n",
       "      <td>-46.474800</td>\n",
       "      <td>-108.045140</td>\n",
       "      <td>1</td>\n",
       "      <td>1</td>\n",
       "    </tr>\n",
       "    <tr>\n",
       "      <th>10706</th>\n",
       "      <td>255780</td>\n",
       "      <td>80</td>\n",
       "      <td>5148</td>\n",
       "      <td>ABARROTES</td>\n",
       "      <td>-46.520282</td>\n",
       "      <td>-107.961052</td>\n",
       "      <td>1</td>\n",
       "      <td>1</td>\n",
       "    </tr>\n",
       "    <tr>\n",
       "      <th>10707</th>\n",
       "      <td>254655</td>\n",
       "      <td>80</td>\n",
       "      <td>5148</td>\n",
       "      <td>ABARROTES</td>\n",
       "      <td>-46.537640</td>\n",
       "      <td>-107.909280</td>\n",
       "      <td>1</td>\n",
       "      <td>1</td>\n",
       "    </tr>\n",
       "    <tr>\n",
       "      <th>10708</th>\n",
       "      <td>254445</td>\n",
       "      <td>80</td>\n",
       "      <td>5148</td>\n",
       "      <td>ABARROTES</td>\n",
       "      <td>-46.543526</td>\n",
       "      <td>-107.917954</td>\n",
       "      <td>2</td>\n",
       "      <td>1</td>\n",
       "    </tr>\n",
       "    <tr>\n",
       "      <th>10709</th>\n",
       "      <td>254403</td>\n",
       "      <td>80</td>\n",
       "      <td>5148</td>\n",
       "      <td>ABARROTES</td>\n",
       "      <td>-46.540856</td>\n",
       "      <td>-107.905792</td>\n",
       "      <td>3</td>\n",
       "      <td>1</td>\n",
       "    </tr>\n",
       "  </tbody>\n",
       "</table>\n",
       "</div>"
      ],
      "text/plain": [
       "       customer_id  region_id  zone_id customer_type          Y           X  \\\n",
       "10705       256017         80     5148     ABARROTES -46.474800 -108.045140   \n",
       "10706       255780         80     5148     ABARROTES -46.520282 -107.961052   \n",
       "10707       254655         80     5148     ABARROTES -46.537640 -107.909280   \n",
       "10708       254445         80     5148     ABARROTES -46.543526 -107.917954   \n",
       "10709       254403         80     5148     ABARROTES -46.540856 -107.905792   \n",
       "\n",
       "       num_deliver_per_week  num_visit_per_week  \n",
       "10705                     1                   1  \n",
       "10706                     1                   1  \n",
       "10707                     1                   1  \n",
       "10708                     2                   1  \n",
       "10709                     3                   1  "
      ]
     },
     "execution_count": 3,
     "metadata": {},
     "output_type": "execute_result"
    }
   ],
   "source": [
    "df_customers.head()"
   ]
  },
  {
   "cell_type": "code",
   "execution_count": 4,
   "metadata": {},
   "outputs": [
    {
     "name": "stdout",
     "output_type": "stream",
     "text": [
      "<class 'pandas.core.frame.DataFrame'>\n",
      "Index: 1569 entries, 10705 to 12273\n",
      "Data columns (total 8 columns):\n",
      " #   Column                Non-Null Count  Dtype  \n",
      "---  ------                --------------  -----  \n",
      " 0   customer_id           1569 non-null   int64  \n",
      " 1   region_id             1569 non-null   int64  \n",
      " 2   zone_id               1569 non-null   int64  \n",
      " 3   customer_type         1569 non-null   object \n",
      " 4   Y                     1569 non-null   float64\n",
      " 5   X                     1568 non-null   float64\n",
      " 6   num_deliver_per_week  1569 non-null   int64  \n",
      " 7   num_visit_per_week    1569 non-null   int64  \n",
      "dtypes: float64(2), int64(5), object(1)\n",
      "memory usage: 110.3+ KB\n"
     ]
    }
   ],
   "source": [
    "df_customers.info()"
   ]
  },
  {
   "cell_type": "code",
   "execution_count": 5,
   "metadata": {},
   "outputs": [
    {
     "name": "stdout",
     "output_type": "stream",
     "text": [
      "zone_id\n",
      "5148    1569\n",
      "Name: count, dtype: int64\n",
      "region_id\n",
      "80    1569\n",
      "Name: count, dtype: int64\n"
     ]
    }
   ],
   "source": [
    "print(df_customers[\"zone_id\"].value_counts())\n",
    "print(df_customers[\"region_id\"].value_counts())"
   ]
  },
  {
   "cell_type": "code",
   "execution_count": 6,
   "metadata": {},
   "outputs": [],
   "source": [
    "# Eliminar columnas irrelevantes (region_id y zone_id son iguales para todos los clientes)\n",
    "df_customers.drop(columns=[\"region_id\", \"zone_id\"], inplace=True)"
   ]
  },
  {
   "cell_type": "code",
   "execution_count": 7,
   "metadata": {},
   "outputs": [
    {
     "data": {
      "text/html": [
       "<div>\n",
       "<style scoped>\n",
       "    .dataframe tbody tr th:only-of-type {\n",
       "        vertical-align: middle;\n",
       "    }\n",
       "\n",
       "    .dataframe tbody tr th {\n",
       "        vertical-align: top;\n",
       "    }\n",
       "\n",
       "    .dataframe thead th {\n",
       "        text-align: right;\n",
       "    }\n",
       "</style>\n",
       "<table border=\"1\" class=\"dataframe\">\n",
       "  <thead>\n",
       "    <tr style=\"text-align: right;\">\n",
       "      <th></th>\n",
       "      <th>product_id</th>\n",
       "      <th>brand</th>\n",
       "      <th>category</th>\n",
       "      <th>sub_category</th>\n",
       "      <th>segment</th>\n",
       "      <th>package</th>\n",
       "      <th>size</th>\n",
       "    </tr>\n",
       "  </thead>\n",
       "  <tbody>\n",
       "    <tr>\n",
       "      <th>0</th>\n",
       "      <td>34092</td>\n",
       "      <td>Brand 31</td>\n",
       "      <td>BEBIDAS CARBONATADAS</td>\n",
       "      <td>GASEOSAS</td>\n",
       "      <td>PREMIUM</td>\n",
       "      <td>BOTELLA</td>\n",
       "      <td>0.66</td>\n",
       "    </tr>\n",
       "    <tr>\n",
       "      <th>1</th>\n",
       "      <td>57290</td>\n",
       "      <td>Brand 31</td>\n",
       "      <td>BEBIDAS CARBONATADAS</td>\n",
       "      <td>GASEOSAS</td>\n",
       "      <td>PREMIUM</td>\n",
       "      <td>BOTELLA</td>\n",
       "      <td>0.66</td>\n",
       "    </tr>\n",
       "    <tr>\n",
       "      <th>2</th>\n",
       "      <td>56714</td>\n",
       "      <td>Brand 31</td>\n",
       "      <td>BEBIDAS CARBONATADAS</td>\n",
       "      <td>GASEOSAS</td>\n",
       "      <td>PREMIUM</td>\n",
       "      <td>BOTELLA</td>\n",
       "      <td>0.66</td>\n",
       "    </tr>\n",
       "    <tr>\n",
       "      <th>3</th>\n",
       "      <td>296616</td>\n",
       "      <td>Brand 31</td>\n",
       "      <td>BEBIDAS CARBONATADAS</td>\n",
       "      <td>GASEOSAS</td>\n",
       "      <td>PREMIUM</td>\n",
       "      <td>BOTELLA</td>\n",
       "      <td>0.66</td>\n",
       "    </tr>\n",
       "    <tr>\n",
       "      <th>4</th>\n",
       "      <td>60854</td>\n",
       "      <td>Brand 31</td>\n",
       "      <td>BEBIDAS CARBONATADAS</td>\n",
       "      <td>GASEOSAS</td>\n",
       "      <td>PREMIUM</td>\n",
       "      <td>BOTELLA</td>\n",
       "      <td>0.25</td>\n",
       "    </tr>\n",
       "  </tbody>\n",
       "</table>\n",
       "</div>"
      ],
      "text/plain": [
       "   product_id     brand              category sub_category  segment  package  \\\n",
       "0       34092  Brand 31  BEBIDAS CARBONATADAS     GASEOSAS  PREMIUM  BOTELLA   \n",
       "1       57290  Brand 31  BEBIDAS CARBONATADAS     GASEOSAS  PREMIUM  BOTELLA   \n",
       "2       56714  Brand 31  BEBIDAS CARBONATADAS     GASEOSAS  PREMIUM  BOTELLA   \n",
       "3      296616  Brand 31  BEBIDAS CARBONATADAS     GASEOSAS  PREMIUM  BOTELLA   \n",
       "4       60854  Brand 31  BEBIDAS CARBONATADAS     GASEOSAS  PREMIUM  BOTELLA   \n",
       "\n",
       "   size  \n",
       "0  0.66  \n",
       "1  0.66  \n",
       "2  0.66  \n",
       "3  0.66  \n",
       "4  0.25  "
      ]
     },
     "execution_count": 7,
     "metadata": {},
     "output_type": "execute_result"
    }
   ],
   "source": [
    "df_products.head()"
   ]
  },
  {
   "cell_type": "code",
   "execution_count": 8,
   "metadata": {},
   "outputs": [
    {
     "name": "stdout",
     "output_type": "stream",
     "text": [
      "<class 'pandas.core.frame.DataFrame'>\n",
      "RangeIndex: 971 entries, 0 to 970\n",
      "Data columns (total 7 columns):\n",
      " #   Column        Non-Null Count  Dtype  \n",
      "---  ------        --------------  -----  \n",
      " 0   product_id    971 non-null    int64  \n",
      " 1   brand         971 non-null    object \n",
      " 2   category      971 non-null    object \n",
      " 3   sub_category  971 non-null    object \n",
      " 4   segment       971 non-null    object \n",
      " 5   package       971 non-null    object \n",
      " 6   size          971 non-null    float64\n",
      "dtypes: float64(1), int64(1), object(5)\n",
      "memory usage: 53.2+ KB\n"
     ]
    }
   ],
   "source": [
    "df_products.info()"
   ]
  },
  {
   "cell_type": "code",
   "execution_count": 9,
   "metadata": {},
   "outputs": [
    {
     "data": {
      "text/html": [
       "<div>\n",
       "<style scoped>\n",
       "    .dataframe tbody tr th:only-of-type {\n",
       "        vertical-align: middle;\n",
       "    }\n",
       "\n",
       "    .dataframe tbody tr th {\n",
       "        vertical-align: top;\n",
       "    }\n",
       "\n",
       "    .dataframe thead th {\n",
       "        text-align: right;\n",
       "    }\n",
       "</style>\n",
       "<table border=\"1\" class=\"dataframe\">\n",
       "  <thead>\n",
       "    <tr style=\"text-align: right;\">\n",
       "      <th></th>\n",
       "      <th>customer_id</th>\n",
       "      <th>product_id</th>\n",
       "      <th>order_id</th>\n",
       "      <th>purchase_date</th>\n",
       "      <th>items</th>\n",
       "    </tr>\n",
       "  </thead>\n",
       "  <tbody>\n",
       "    <tr>\n",
       "      <th>124</th>\n",
       "      <td>61353</td>\n",
       "      <td>61364</td>\n",
       "      <td>411145</td>\n",
       "      <td>2024-04-27</td>\n",
       "      <td>-0.333333</td>\n",
       "    </tr>\n",
       "    <tr>\n",
       "      <th>127</th>\n",
       "      <td>61899</td>\n",
       "      <td>1370</td>\n",
       "      <td>411156</td>\n",
       "      <td>2024-04-27</td>\n",
       "      <td>3.666667</td>\n",
       "    </tr>\n",
       "    <tr>\n",
       "      <th>344</th>\n",
       "      <td>154077</td>\n",
       "      <td>30500</td>\n",
       "      <td>417911</td>\n",
       "      <td>2024-04-29</td>\n",
       "      <td>2.333333</td>\n",
       "    </tr>\n",
       "    <tr>\n",
       "      <th>349</th>\n",
       "      <td>164337</td>\n",
       "      <td>56714</td>\n",
       "      <td>418100</td>\n",
       "      <td>2024-04-29</td>\n",
       "      <td>-2.333333</td>\n",
       "    </tr>\n",
       "    <tr>\n",
       "      <th>354</th>\n",
       "      <td>172056</td>\n",
       "      <td>61672</td>\n",
       "      <td>407162</td>\n",
       "      <td>2024-04-26</td>\n",
       "      <td>1.000000</td>\n",
       "    </tr>\n",
       "  </tbody>\n",
       "</table>\n",
       "</div>"
      ],
      "text/plain": [
       "     customer_id  product_id  order_id purchase_date     items\n",
       "124        61353       61364    411145    2024-04-27 -0.333333\n",
       "127        61899        1370    411156    2024-04-27  3.666667\n",
       "344       154077       30500    417911    2024-04-29  2.333333\n",
       "349       164337       56714    418100    2024-04-29 -2.333333\n",
       "354       172056       61672    407162    2024-04-26  1.000000"
      ]
     },
     "execution_count": 9,
     "metadata": {},
     "output_type": "execute_result"
    }
   ],
   "source": [
    "df_transactions.head()"
   ]
  },
  {
   "cell_type": "code",
   "execution_count": 10,
   "metadata": {},
   "outputs": [
    {
     "name": "stdout",
     "output_type": "stream",
     "text": [
      "<class 'pandas.core.frame.DataFrame'>\n",
      "Index: 254936 entries, 124 to 7712548\n",
      "Data columns (total 5 columns):\n",
      " #   Column         Non-Null Count   Dtype         \n",
      "---  ------         --------------   -----         \n",
      " 0   customer_id    254936 non-null  int64         \n",
      " 1   product_id     254936 non-null  int64         \n",
      " 2   order_id       254936 non-null  int64         \n",
      " 3   purchase_date  254936 non-null  datetime64[ns]\n",
      " 4   items          254936 non-null  float64       \n",
      "dtypes: datetime64[ns](1), float64(1), int64(3)\n",
      "memory usage: 11.7 MB\n"
     ]
    }
   ],
   "source": [
    "df_transactions.info()"
   ]
  },
  {
   "cell_type": "code",
   "execution_count": 11,
   "metadata": {},
   "outputs": [
    {
     "name": "stdout",
     "output_type": "stream",
     "text": [
      "Cantidad de transacciones con items negativos: 8384\n",
      "items\n",
      "-0.333333     2267\n",
      "-1.000000     1859\n",
      "-1.666667     1056\n",
      "-3.000000      718\n",
      "-2.333333      595\n",
      "              ... \n",
      "-73.000000       1\n",
      "-80.333333       1\n",
      "-55.666667       1\n",
      "-63.000000       1\n",
      "-21.666667       1\n",
      "Name: count, Length: 63, dtype: int64 \n",
      "\n",
      "Cantidad de transacciones con items igual a 0: 1\n",
      "items\n",
      "0.0    1\n",
      "Name: count, dtype: int64\n"
     ]
    }
   ],
   "source": [
    "print(f\"Cantidad de transacciones con items negativos: {df_transactions[df_transactions['items'] < 0].shape[0]}\")\n",
    "print(df_transactions[df_transactions[\"items\"] < 0][\"items\"].value_counts(),\"\\n\")\n",
    "print(f\"Cantidad de transacciones con items igual a 0: {df_transactions[df_transactions['items'] == 0].shape[0]}\")\n",
    "print(df_transactions[df_transactions[\"items\"] == 0][\"items\"].value_counts())"
   ]
  },
  {
   "cell_type": "markdown",
   "metadata": {},
   "source": [
    "Eliminamos la transacción por 0 items y transformamos a positivo los valores negativos. Hacer una transacción por 0 productos no tiene sentido y al haber tantos valores negativos diferentes asumimos que estos tuvieron un problema al ser ingresados por lo que los transformamos a positivo. Este es un supuesto fuerte a pesar de que los valores negativos solo representen 3.3% de los datos, en un escenario real para tomar esta decisión se investigaría como son ingresados los datos primero. \n",
    "\n",
    "Si bien esto se debería realizar en el EDA, como se va a hacer una agregación de los datos utilizando la variable items se debe curar en este paso."
   ]
  },
  {
   "cell_type": "code",
   "execution_count": 12,
   "metadata": {},
   "outputs": [],
   "source": [
    "# Eliminar las transacciones con 0 items y transformar a positivo los valores negativos\n",
    "df_transactions = df_transactions[df_transactions[\"items\"] != 0]\n",
    "df_transactions[\"items\"] = df_transactions[\"items\"].abs()"
   ]
  },
  {
   "cell_type": "markdown",
   "metadata": {},
   "source": [
    "A partir del análisis de los dataframes, podemos concluir que los datos de clientes, productos y transacciones tienen correctamente asignados sus tipos de datos. Además, solo se detectó un valor nulo, ubicado en la variable \"X\" (longitud) dentro de los datos de clientes.\n",
    "\n",
    "Con esta breve exploración se determina que, para resolver el problema, será necesario realizar un cruce de los tres dataframes. El procedimiento será el siguiente: en primer lugar, se generará en el dataframe de transacciones una variable que indique la semana correspondiente a cada compra. Posteriormente, se agruparán los registros por cliente, producto y semana, y a este resultado se le aplicará un join con las otras dos fuentes de datos.\n",
    "\n",
    "Finalmente, se construirá la variable objetivo \"bought\", asignándole el valor 1, ya que su presencia en los datos implica la existencia de una combinación válida entre cliente, producto y semana. Sin embargo, esta metodología solo generaría etiquetas positivas; por ello, se crearán todas la combinaciones posibles de clientes, productos y semanas que no aparezcan en los datos originales, asignándoles a la variable objetivo el valor 0.\n",
    "\n",
    "Sin embargo, antes de hacer el cruce, primero tenemos que tener en cuenta que el objetivo final es plantear de buena manera el dataframe con tal de desarrollar un modelo de aprendizaje supervisado, por lo que es crucial usar datos con instancias existentes de la variable objetivo, siendo esta, la de comprar o no. Según esto y el enunciado, el objetivo es en relación a clientes \"activos\", y esto lo podemos entender como todos los clientes que han presentado alguna compra dentro de nuestro tiempo de estudio. De esta forma, procedemos a eliminar a todos los clientes que no presentan compras de ningún producto en las transacciones. Bajo esta misma lógica, tampoco se considerarán los productos que jamás hayan sido comprados, ya que es imposible asociarlos con nuestra variable 'bought' bajo un regimen de aprendizaje supervisado. (Se podría hacer algún tipo de segmentación de productos y clientes según sus características, pero esto se escapa del enfoque del proyecto)."
   ]
  },
  {
   "cell_type": "code",
   "execution_count": 13,
   "metadata": {},
   "outputs": [],
   "source": [
    "# Filtramos clientes activos\n",
    "customers_with_transactions = df_transactions['customer_id'].unique()\n",
    "df_customers = df_customers[df_customers['customer_id'].isin(customers_with_transactions)]\n",
    "\n",
    "# Filtramos productos activos\n",
    "products_with_transactions = df_transactions['product_id'].unique()\n",
    "df_products = df_products[df_products['product_id'].isin(products_with_transactions)]"
   ]
  },
  {
   "cell_type": "markdown",
   "metadata": {},
   "source": [
    "#### Cración variable week\n",
    "Se crea la variable week y se agrupa por esta. Se va agregar la variable purchase_count que cuenta la cantidad de veces que un cliente compro un producto en una semana determinada. Asimismo, para itemes (cantidad de bultos comprados) se calculará el promedio. Finalmente la variable order_id es descartada, no aporta nada al problema."
   ]
  },
  {
   "cell_type": "code",
   "execution_count": 14,
   "metadata": {},
   "outputs": [
    {
     "name": "stdout",
     "output_type": "stream",
     "text": [
      "<class 'pandas.core.frame.DataFrame'>\n",
      "Index: 254935 entries, 124 to 7712548\n",
      "Data columns (total 7 columns):\n",
      " #   Column         Non-Null Count   Dtype         \n",
      "---  ------         --------------   -----         \n",
      " 0   customer_id    254935 non-null  object        \n",
      " 1   product_id     254935 non-null  object        \n",
      " 2   order_id       254935 non-null  object        \n",
      " 3   purchase_date  254935 non-null  datetime64[ns]\n",
      " 4   items          254935 non-null  float64       \n",
      " 5   week           254935 non-null  UInt32        \n",
      " 6   bought         254935 non-null  int8          \n",
      "dtypes: UInt32(1), datetime64[ns](1), float64(1), int8(1), object(3)\n",
      "memory usage: 13.1+ MB\n",
      "None\n"
     ]
    },
    {
     "data": {
      "text/html": [
       "<div>\n",
       "<style scoped>\n",
       "    .dataframe tbody tr th:only-of-type {\n",
       "        vertical-align: middle;\n",
       "    }\n",
       "\n",
       "    .dataframe tbody tr th {\n",
       "        vertical-align: top;\n",
       "    }\n",
       "\n",
       "    .dataframe thead th {\n",
       "        text-align: right;\n",
       "    }\n",
       "</style>\n",
       "<table border=\"1\" class=\"dataframe\">\n",
       "  <thead>\n",
       "    <tr style=\"text-align: right;\">\n",
       "      <th></th>\n",
       "      <th>customer_id</th>\n",
       "      <th>product_id</th>\n",
       "      <th>order_id</th>\n",
       "      <th>purchase_date</th>\n",
       "      <th>items</th>\n",
       "      <th>week</th>\n",
       "      <th>bought</th>\n",
       "    </tr>\n",
       "  </thead>\n",
       "  <tbody>\n",
       "    <tr>\n",
       "      <th>124</th>\n",
       "      <td>61353</td>\n",
       "      <td>61364</td>\n",
       "      <td>411145</td>\n",
       "      <td>2024-04-27</td>\n",
       "      <td>0.333333</td>\n",
       "      <td>17</td>\n",
       "      <td>1</td>\n",
       "    </tr>\n",
       "    <tr>\n",
       "      <th>127</th>\n",
       "      <td>61899</td>\n",
       "      <td>1370</td>\n",
       "      <td>411156</td>\n",
       "      <td>2024-04-27</td>\n",
       "      <td>3.666667</td>\n",
       "      <td>17</td>\n",
       "      <td>1</td>\n",
       "    </tr>\n",
       "    <tr>\n",
       "      <th>344</th>\n",
       "      <td>154077</td>\n",
       "      <td>30500</td>\n",
       "      <td>417911</td>\n",
       "      <td>2024-04-29</td>\n",
       "      <td>2.333333</td>\n",
       "      <td>18</td>\n",
       "      <td>1</td>\n",
       "    </tr>\n",
       "    <tr>\n",
       "      <th>349</th>\n",
       "      <td>164337</td>\n",
       "      <td>56714</td>\n",
       "      <td>418100</td>\n",
       "      <td>2024-04-29</td>\n",
       "      <td>2.333333</td>\n",
       "      <td>18</td>\n",
       "      <td>1</td>\n",
       "    </tr>\n",
       "    <tr>\n",
       "      <th>354</th>\n",
       "      <td>172056</td>\n",
       "      <td>61672</td>\n",
       "      <td>407162</td>\n",
       "      <td>2024-04-26</td>\n",
       "      <td>1.000000</td>\n",
       "      <td>17</td>\n",
       "      <td>1</td>\n",
       "    </tr>\n",
       "  </tbody>\n",
       "</table>\n",
       "</div>"
      ],
      "text/plain": [
       "    customer_id product_id order_id purchase_date     items  week  bought\n",
       "124       61353      61364   411145    2024-04-27  0.333333    17       1\n",
       "127       61899       1370   411156    2024-04-27  3.666667    17       1\n",
       "344      154077      30500   417911    2024-04-29  2.333333    18       1\n",
       "349      164337      56714   418100    2024-04-29  2.333333    18       1\n",
       "354      172056      61672   407162    2024-04-26  1.000000    17       1"
      ]
     },
     "execution_count": 14,
     "metadata": {},
     "output_type": "execute_result"
    }
   ],
   "source": [
    "# Transformar id's a string's\n",
    "df_customers[\"customer_id\"] = df_customers[\"customer_id\"].astype(str)\n",
    "df_products[\"product_id\"] = df_products[\"product_id\"].astype(str)\n",
    "df_transactions[\"customer_id\"] = df_transactions[\"customer_id\"].astype(str)\n",
    "df_transactions[\"product_id\"] = df_transactions[\"product_id\"].astype(str)\n",
    "df_transactions[\"order_id\"] = df_transactions[\"order_id\"].astype(str)\n",
    "\n",
    "# Crear variable week\n",
    "df_transactions[\"week\"] = df_transactions[\"purchase_date\"].dt.isocalendar().week\n",
    "\n",
    "df_grouped = df_transactions.copy()\n",
    "# Crear variable objetivo\n",
    "df_grouped['bought'] = 1\n",
    "df_grouped['bought'] = df_grouped['bought'].astype('int8')\n",
    "print(df_grouped.info())\n",
    "df_grouped.head()"
   ]
  },
  {
   "cell_type": "markdown",
   "metadata": {},
   "source": [
    "#### Creación variables objetivos negativas (0)"
   ]
  },
  {
   "cell_type": "code",
   "execution_count": 15,
   "metadata": {},
   "outputs": [],
   "source": [
    "# Transformación de tipo para ahorrar memoria\n",
    "\n",
    "def optimize_numeric_types(df: pd.DataFrame) -> pd.DataFrame:\n",
    "    \"\"\"\n",
    "    Convierte de una sola vez:\n",
    "    - int64  -> int32\n",
    "    - float64 -> float32\n",
    "    Mantiene el resto igual.\n",
    "    \"\"\"\n",
    "    dtypes = df.dtypes\n",
    "    mapping = {}\n",
    "\n",
    "    # Selección vectorizada con numpy\n",
    "    mask_int64   = dtypes.values == np.dtype(\"int64\")\n",
    "    mask_float64 = dtypes.values == np.dtype(\"float64\")\n",
    "\n",
    "    if mask_int64.any():\n",
    "        mapping.update(dict(zip(dtypes.index[mask_int64], np.repeat(\"int32\", mask_int64.sum()))))\n",
    "    if mask_float64.any():\n",
    "        mapping.update(dict(zip(dtypes.index[mask_float64], np.repeat(\"float32\", mask_float64.sum()))))\n",
    "\n",
    "    return df.astype(mapping, copy=False)\n",
    "\n",
    "\n",
    "# IDs como category\n",
    "for frame, cols in [\n",
    "    (df_customers, [\"customer_id\", \"customer_type\"]),\n",
    "    (df_products,  [\"product_id\", \"brand\", \"category\", \"sub_category\", \"segment\", \"package\"]),\n",
    "    (df_transactions, [\"customer_id\", \"product_id\"]),\n",
    "    (df_grouped,   [\"customer_id\", \"product_id\"]),\n",
    "]:\n",
    "    frame[cols] = frame[cols].astype(\"category\")\n",
    "\n",
    "# Optimización numérica \n",
    "df_transactions = optimize_numeric_types(df_transactions)\n",
    "df_grouped       = optimize_numeric_types(df_grouped)\n",
    "df_customers    = optimize_numeric_types(df_customers)\n",
    "df_products     = optimize_numeric_types(df_products)\n"
   ]
  },
  {
   "cell_type": "code",
   "execution_count": 16,
   "metadata": {},
   "outputs": [],
   "source": [
    "# Crear universo cliente-producto-semana\n",
    "# Fechas mín/máx para generar semanas completas\n",
    "min_week, max_week = df_transactions[\"week\"].min(), df_transactions[\"week\"].max()\n",
    "weeks = pd.Series(df_transactions[\"week\"].unique(), name=\"week\")\n",
    "\n",
    "# Transformar semanas a int16 para ahorrar memoria\n",
    "weeks = weeks.astype(\"int16\")\n",
    "\n",
    "# Todos los clientes × productos × semanas\n",
    "universe = (\n",
    "    pd.MultiIndex.from_product(\n",
    "        [df_customers[\"customer_id\"].cat.categories,\n",
    "         df_products[\"product_id\"].cat.categories,\n",
    "         weeks],\n",
    "        names=[\"customer_id\", \"product_id\", \"week\"]\n",
    "    )\n",
    "    .to_frame(index=False)\n",
    ")\n",
    "\n",
    "# Agregar las variables de clientes y productos\n",
    "universe = universe.merge(df_customers, on=\"customer_id\", how=\"left\")\n",
    "universe = universe.merge(df_products, on=\"product_id\", how=\"left\")"
   ]
  },
  {
   "cell_type": "markdown",
   "metadata": {},
   "source": [
    "Ahora por último, eliminamos order_id, pues al ser simplemente un id no brinda información real al modelo, sin embargo, vemos que un cliente puede comprar el mismo producto varias veces la misma semana, por ende si aplicamos un drop duplicates sobre el conjunto de datos se perderían esas instancias de compra, siendo que más instancias de compra implican una mayor probabilidad de que por lo menos alguna compra (1) sea realizada por el cliente. Siendo esto último la definición misma de nuestra variable objetivo bought (no nos importa si compra 10 veces o una, con tal de que compre o no).\n",
    "\n",
    "A su vez, para evitar data leakage removemos la variable items, ya que nos dice directamente si el producto fué bought o no (si es mayor a 0 implica bought). También al agregar week, purchase date es irrelevante pues el objetivo del estudio es semana a semana, por ende tambien removemos purchase_date."
   ]
  },
  {
   "cell_type": "code",
   "execution_count": 17,
   "metadata": {},
   "outputs": [
    {
     "data": {
      "text/html": [
       "<div>\n",
       "<style scoped>\n",
       "    .dataframe tbody tr th:only-of-type {\n",
       "        vertical-align: middle;\n",
       "    }\n",
       "\n",
       "    .dataframe tbody tr th {\n",
       "        vertical-align: top;\n",
       "    }\n",
       "\n",
       "    .dataframe thead th {\n",
       "        text-align: right;\n",
       "    }\n",
       "</style>\n",
       "<table border=\"1\" class=\"dataframe\">\n",
       "  <thead>\n",
       "    <tr style=\"text-align: right;\">\n",
       "      <th></th>\n",
       "      <th>customer_id</th>\n",
       "      <th>product_id</th>\n",
       "      <th>week</th>\n",
       "      <th>customer_type</th>\n",
       "      <th>Y</th>\n",
       "      <th>X</th>\n",
       "      <th>num_deliver_per_week</th>\n",
       "      <th>num_visit_per_week</th>\n",
       "      <th>brand</th>\n",
       "      <th>category</th>\n",
       "      <th>sub_category</th>\n",
       "      <th>segment</th>\n",
       "      <th>package</th>\n",
       "      <th>size</th>\n",
       "      <th>bought</th>\n",
       "    </tr>\n",
       "  </thead>\n",
       "  <tbody>\n",
       "    <tr>\n",
       "      <th>0</th>\n",
       "      <td>123150</td>\n",
       "      <td>10652</td>\n",
       "      <td>17</td>\n",
       "      <td>ABARROTES</td>\n",
       "      <td>-46.69453</td>\n",
       "      <td>-107.832138</td>\n",
       "      <td>4</td>\n",
       "      <td>1</td>\n",
       "      <td>Brand 34</td>\n",
       "      <td>BEBIDAS CARBONATADAS</td>\n",
       "      <td>GASEOSAS</td>\n",
       "      <td>MEDIUM</td>\n",
       "      <td>LATA</td>\n",
       "      <td>0.25</td>\n",
       "      <td>0</td>\n",
       "    </tr>\n",
       "    <tr>\n",
       "      <th>1</th>\n",
       "      <td>123150</td>\n",
       "      <td>10652</td>\n",
       "      <td>18</td>\n",
       "      <td>ABARROTES</td>\n",
       "      <td>-46.69453</td>\n",
       "      <td>-107.832138</td>\n",
       "      <td>4</td>\n",
       "      <td>1</td>\n",
       "      <td>Brand 34</td>\n",
       "      <td>BEBIDAS CARBONATADAS</td>\n",
       "      <td>GASEOSAS</td>\n",
       "      <td>MEDIUM</td>\n",
       "      <td>LATA</td>\n",
       "      <td>0.25</td>\n",
       "      <td>0</td>\n",
       "    </tr>\n",
       "    <tr>\n",
       "      <th>2</th>\n",
       "      <td>123150</td>\n",
       "      <td>10652</td>\n",
       "      <td>5</td>\n",
       "      <td>ABARROTES</td>\n",
       "      <td>-46.69453</td>\n",
       "      <td>-107.832138</td>\n",
       "      <td>4</td>\n",
       "      <td>1</td>\n",
       "      <td>Brand 34</td>\n",
       "      <td>BEBIDAS CARBONATADAS</td>\n",
       "      <td>GASEOSAS</td>\n",
       "      <td>MEDIUM</td>\n",
       "      <td>LATA</td>\n",
       "      <td>0.25</td>\n",
       "      <td>0</td>\n",
       "    </tr>\n",
       "    <tr>\n",
       "      <th>3</th>\n",
       "      <td>123150</td>\n",
       "      <td>10652</td>\n",
       "      <td>4</td>\n",
       "      <td>ABARROTES</td>\n",
       "      <td>-46.69453</td>\n",
       "      <td>-107.832138</td>\n",
       "      <td>4</td>\n",
       "      <td>1</td>\n",
       "      <td>Brand 34</td>\n",
       "      <td>BEBIDAS CARBONATADAS</td>\n",
       "      <td>GASEOSAS</td>\n",
       "      <td>MEDIUM</td>\n",
       "      <td>LATA</td>\n",
       "      <td>0.25</td>\n",
       "      <td>0</td>\n",
       "    </tr>\n",
       "    <tr>\n",
       "      <th>4</th>\n",
       "      <td>123150</td>\n",
       "      <td>10652</td>\n",
       "      <td>2</td>\n",
       "      <td>ABARROTES</td>\n",
       "      <td>-46.69453</td>\n",
       "      <td>-107.832138</td>\n",
       "      <td>4</td>\n",
       "      <td>1</td>\n",
       "      <td>Brand 34</td>\n",
       "      <td>BEBIDAS CARBONATADAS</td>\n",
       "      <td>GASEOSAS</td>\n",
       "      <td>MEDIUM</td>\n",
       "      <td>LATA</td>\n",
       "      <td>0.25</td>\n",
       "      <td>0</td>\n",
       "    </tr>\n",
       "  </tbody>\n",
       "</table>\n",
       "</div>"
      ],
      "text/plain": [
       "  customer_id product_id  week customer_type         Y           X  \\\n",
       "0      123150      10652    17     ABARROTES -46.69453 -107.832138   \n",
       "1      123150      10652    18     ABARROTES -46.69453 -107.832138   \n",
       "2      123150      10652     5     ABARROTES -46.69453 -107.832138   \n",
       "3      123150      10652     4     ABARROTES -46.69453 -107.832138   \n",
       "4      123150      10652     2     ABARROTES -46.69453 -107.832138   \n",
       "\n",
       "   num_deliver_per_week  num_visit_per_week     brand              category  \\\n",
       "0                     4                   1  Brand 34  BEBIDAS CARBONATADAS   \n",
       "1                     4                   1  Brand 34  BEBIDAS CARBONATADAS   \n",
       "2                     4                   1  Brand 34  BEBIDAS CARBONATADAS   \n",
       "3                     4                   1  Brand 34  BEBIDAS CARBONATADAS   \n",
       "4                     4                   1  Brand 34  BEBIDAS CARBONATADAS   \n",
       "\n",
       "  sub_category segment package  size  bought  \n",
       "0     GASEOSAS  MEDIUM    LATA  0.25       0  \n",
       "1     GASEOSAS  MEDIUM    LATA  0.25       0  \n",
       "2     GASEOSAS  MEDIUM    LATA  0.25       0  \n",
       "3     GASEOSAS  MEDIUM    LATA  0.25       0  \n",
       "4     GASEOSAS  MEDIUM    LATA  0.25       0  "
      ]
     },
     "execution_count": 17,
     "metadata": {},
     "output_type": "execute_result"
    }
   ],
   "source": [
    "\n",
    "# Merge para target binario\n",
    "data = universe.merge(df_grouped, on=[\"customer_id\", \"product_id\", \"week\"], how=\"left\")\n",
    "data[\"bought\"] = data[\"bought\"].fillna(0).astype(\"int8\")\n",
    "\n",
    "# Fillna para average_items\n",
    "data.drop(columns=[\"order_id\", \"purchase_date\", \"items\"], inplace = True)\n",
    "\n",
    "# Al dropear order_id, se repetirían filas sise compra lo mismo varias veces a \n",
    "# la semana por un cliente\n",
    "# Sin embargo, no eliminamos duplicados para darle el peso correspondiente \n",
    "# a varias compras semanales del mismo productos\n",
    "# data = data.drop_duplicates()\n",
    "\n",
    "data.head()"
   ]
  },
  {
   "cell_type": "code",
   "execution_count": 18,
   "metadata": {},
   "outputs": [],
   "source": [
    "# Guardar el dataset final en formato Parquet\n",
    "data.to_parquet('dataset_final.parquet', engine='pyarrow', index=False)"
   ]
  },
  {
   "cell_type": "markdown",
   "metadata": {},
   "source": [
    "## 📌 EDA [0.5 puntos]\n",
    "\n",
    "<center>\n",
    "<img src=\"https://media3.giphy.com/media/v1.Y2lkPTc5MGI3NjExbHZ6aGdkd21tYTI3cW8zYWhyYW5wdGlyb2s3MmRzeTV0dzQ1NWlueiZlcD12MV9pbnRlcm5hbF9naWZfYnlfaWQmY3Q9Zw/3k1hJubTtOAKPKx4k3/giphy.gif\" width=\"400\" height=\"200\">"
   ]
  },
  {
   "cell_type": "markdown",
   "metadata": {},
   "source": [
    "En esta sección, se debe realizar un análisis exploratorio de los datos para comprender su estructura, detectar posibles problemas y obtener información relevante para el entrenamiento de los modelos. La idea es que puedan detectar **patrones en los datos** que les permitan resolver el problema con mayor facilidad.\n",
    "\n",
    "Se deben responder preguntas a partir de lo que puedan visualizar/obtener, por ejemplo:\n",
    "\n",
    "- Clientes y productos\n",
    "\n",
    "    - ¿Cuántos clientes únicos hay en el dataset?\n",
    "\n",
    "    - ¿Cuántos productos únicos se encuentran en los datos?\n",
    "\n",
    "- Periodo y frecuencia\n",
    "\n",
    "    - ¿De qué periodo es la información disponible?\n",
    "\n",
    "    - ¿Cuál es la frecuencia de los registros (diaria, semanal, mensual, etc.)?\n",
    "\n",
    "- Calidad de los datos\n",
    "\n",
    "    - ¿Existen valores nulos en el dataset? ¿Cuántos? ¿Cómo se pueden tratar?\n",
    "\n",
    "    - ¿Hay datos raros, como cantidades negativas o inconsistencias? Genere tests de validación para identificar estos problemas.\n",
    "\n",
    "- Patrones de compra\n",
    "\n",
    "    - ¿Cuántos productos compra en promedio cada cliente semana a semana?\n",
    "\n",
    "    - ¿Cuántas transacciones ha realizado cada cliente?\n",
    "\n",
    "    - ¿Cuál es el periodo de recompra promedio de cada SKU?"
   ]
  },
  {
   "cell_type": "code",
   "execution_count": 19,
   "metadata": {},
   "outputs": [
    {
     "name": "stdout",
     "output_type": "stream",
     "text": [
      "<class 'pandas.core.frame.DataFrame'>\n",
      "RangeIndex: 8881625 entries, 0 to 8881624\n",
      "Data columns (total 15 columns):\n",
      " #   Column                Dtype   \n",
      "---  ------                -----   \n",
      " 0   customer_id           object  \n",
      " 1   product_id            object  \n",
      " 2   week                  int16   \n",
      " 3   customer_type         category\n",
      " 4   Y                     float32 \n",
      " 5   X                     float32 \n",
      " 6   num_deliver_per_week  int32   \n",
      " 7   num_visit_per_week    int32   \n",
      " 8   brand                 category\n",
      " 9   category              category\n",
      " 10  sub_category          category\n",
      " 11  segment               category\n",
      " 12  package               category\n",
      " 13  size                  float32 \n",
      " 14  bought                int8    \n",
      "dtypes: category(6), float32(3), int16(1), int32(2), int8(1), object(2)\n",
      "memory usage: 381.2+ MB\n"
     ]
    }
   ],
   "source": [
    "import pandas as pd\n",
    "df = pd.read_parquet('dataset_final.parquet')  # viene del pipeline de la sección anterior\n",
    "df.info()"
   ]
  },
  {
   "cell_type": "code",
   "execution_count": 20,
   "metadata": {},
   "outputs": [
    {
     "data": {
      "text/html": [
       "<div>\n",
       "<style scoped>\n",
       "    .dataframe tbody tr th:only-of-type {\n",
       "        vertical-align: middle;\n",
       "    }\n",
       "\n",
       "    .dataframe tbody tr th {\n",
       "        vertical-align: top;\n",
       "    }\n",
       "\n",
       "    .dataframe thead th {\n",
       "        text-align: right;\n",
       "    }\n",
       "</style>\n",
       "<table border=\"1\" class=\"dataframe\">\n",
       "  <thead>\n",
       "    <tr style=\"text-align: right;\">\n",
       "      <th></th>\n",
       "      <th>week</th>\n",
       "      <th>Y</th>\n",
       "      <th>X</th>\n",
       "      <th>num_deliver_per_week</th>\n",
       "      <th>num_visit_per_week</th>\n",
       "      <th>size</th>\n",
       "      <th>bought</th>\n",
       "    </tr>\n",
       "  </thead>\n",
       "  <tbody>\n",
       "    <tr>\n",
       "      <th>count</th>\n",
       "      <td>8.881625e+06</td>\n",
       "      <td>8.881625e+06</td>\n",
       "      <td>8.881625e+06</td>\n",
       "      <td>8.881625e+06</td>\n",
       "      <td>8881625.0</td>\n",
       "      <td>8.881625e+06</td>\n",
       "      <td>8.881625e+06</td>\n",
       "    </tr>\n",
       "    <tr>\n",
       "      <th>mean</th>\n",
       "      <td>2.650785e+01</td>\n",
       "      <td>-4.670758e+01</td>\n",
       "      <td>-1.077409e+02</td>\n",
       "      <td>3.159727e+00</td>\n",
       "      <td>1.0</td>\n",
       "      <td>9.732323e-01</td>\n",
       "      <td>2.870364e-02</td>\n",
       "    </tr>\n",
       "    <tr>\n",
       "      <th>std</th>\n",
       "      <td>1.502116e+01</td>\n",
       "      <td>2.765993e+00</td>\n",
       "      <td>2.757442e+00</td>\n",
       "      <td>4.159412e-01</td>\n",
       "      <td>0.0</td>\n",
       "      <td>3.131399e+00</td>\n",
       "      <td>1.669723e-01</td>\n",
       "    </tr>\n",
       "    <tr>\n",
       "      <th>min</th>\n",
       "      <td>1.000000e+00</td>\n",
       "      <td>-1.090025e+02</td>\n",
       "      <td>-1.086209e+02</td>\n",
       "      <td>2.000000e+00</td>\n",
       "      <td>1.0</td>\n",
       "      <td>2.500000e-01</td>\n",
       "      <td>0.000000e+00</td>\n",
       "    </tr>\n",
       "    <tr>\n",
       "      <th>25%</th>\n",
       "      <td>1.300000e+01</td>\n",
       "      <td>-4.658548e+01</td>\n",
       "      <td>-1.079346e+02</td>\n",
       "      <td>3.000000e+00</td>\n",
       "      <td>1.0</td>\n",
       "      <td>2.500000e-01</td>\n",
       "      <td>0.000000e+00</td>\n",
       "    </tr>\n",
       "    <tr>\n",
       "      <th>50%</th>\n",
       "      <td>2.700000e+01</td>\n",
       "      <td>-4.655550e+01</td>\n",
       "      <td>-1.078949e+02</td>\n",
       "      <td>3.000000e+00</td>\n",
       "      <td>1.0</td>\n",
       "      <td>3.300000e-01</td>\n",
       "      <td>0.000000e+00</td>\n",
       "    </tr>\n",
       "    <tr>\n",
       "      <th>75%</th>\n",
       "      <td>4.000000e+01</td>\n",
       "      <td>-4.651868e+01</td>\n",
       "      <td>-1.078627e+02</td>\n",
       "      <td>3.000000e+00</td>\n",
       "      <td>1.0</td>\n",
       "      <td>6.600000e-01</td>\n",
       "      <td>0.000000e+00</td>\n",
       "    </tr>\n",
       "    <tr>\n",
       "      <th>max</th>\n",
       "      <td>5.200000e+01</td>\n",
       "      <td>-4.630860e+01</td>\n",
       "      <td>-4.644278e+01</td>\n",
       "      <td>6.000000e+00</td>\n",
       "      <td>1.0</td>\n",
       "      <td>2.000000e+01</td>\n",
       "      <td>1.000000e+00</td>\n",
       "    </tr>\n",
       "  </tbody>\n",
       "</table>\n",
       "</div>"
      ],
      "text/plain": [
       "               week             Y             X  num_deliver_per_week  \\\n",
       "count  8.881625e+06  8.881625e+06  8.881625e+06          8.881625e+06   \n",
       "mean   2.650785e+01 -4.670758e+01 -1.077409e+02          3.159727e+00   \n",
       "std    1.502116e+01  2.765993e+00  2.757442e+00          4.159412e-01   \n",
       "min    1.000000e+00 -1.090025e+02 -1.086209e+02          2.000000e+00   \n",
       "25%    1.300000e+01 -4.658548e+01 -1.079346e+02          3.000000e+00   \n",
       "50%    2.700000e+01 -4.655550e+01 -1.078949e+02          3.000000e+00   \n",
       "75%    4.000000e+01 -4.651868e+01 -1.078627e+02          3.000000e+00   \n",
       "max    5.200000e+01 -4.630860e+01 -4.644278e+01          6.000000e+00   \n",
       "\n",
       "       num_visit_per_week          size        bought  \n",
       "count           8881625.0  8.881625e+06  8.881625e+06  \n",
       "mean                  1.0  9.732323e-01  2.870364e-02  \n",
       "std                   0.0  3.131399e+00  1.669723e-01  \n",
       "min                   1.0  2.500000e-01  0.000000e+00  \n",
       "25%                   1.0  2.500000e-01  0.000000e+00  \n",
       "50%                   1.0  3.300000e-01  0.000000e+00  \n",
       "75%                   1.0  6.600000e-01  0.000000e+00  \n",
       "max                   1.0  2.000000e+01  1.000000e+00  "
      ]
     },
     "execution_count": 20,
     "metadata": {},
     "output_type": "execute_result"
    }
   ],
   "source": [
    "df.describe()"
   ]
  },
  {
   "cell_type": "code",
   "execution_count": 21,
   "metadata": {},
   "outputs": [
    {
     "data": {
      "application/vnd.plotly.v1+json": {
       "config": {
        "plotlyServerURL": "https://plot.ly"
       },
       "data": [
        {
         "coloraxis": "coloraxis",
         "hovertemplate": "x: %{x}<br>y: %{y}<br>color: %{z}<extra></extra>",
         "name": "0",
         "texttemplate": "%{z:.2f}",
         "type": "heatmap",
         "x": [
          "Y",
          "X",
          "num_deliver_per_week",
          "size",
          "bought"
         ],
         "xaxis": "x",
         "y": [
          "Y",
          "X",
          "num_deliver_per_week",
          "size",
          "bought"
         ],
         "yaxis": "y",
         "z": {
          "bdata": "AAAAAAAA8D9oHaevX7zvv9JYREDk6pC/2cK7KtRf3L5ek39Ln+BwP2gdp69fvO+/AAAAAAAA8D/VTO67HW6JP5PfCI+QtMC+VYX2I1LWYr/SWERA5OqQv9VM7rsdbok/AAAAAAAA8D//tlqo/kn/vjympuul/2A/2cK7KtRf3L6T3wiPkLTAvv+2Wqj+Sf++AAAAAAAA8D/eaDnmnpiQv16Tf0uf4HA/VYX2I1LWYr88pqbrpf9gP95oOeaemJC/AAAAAAAA8D8=",
          "dtype": "f8",
          "shape": "5, 5"
         }
        }
       ],
       "layout": {
        "coloraxis": {
         "colorbar": {
          "title": {
           "text": "Coef. de Correlación"
          }
         },
         "colorscale": [
          [
           0,
           "rgb(5,48,97)"
          ],
          [
           0.1,
           "rgb(33,102,172)"
          ],
          [
           0.2,
           "rgb(67,147,195)"
          ],
          [
           0.3,
           "rgb(146,197,222)"
          ],
          [
           0.4,
           "rgb(209,229,240)"
          ],
          [
           0.5,
           "rgb(247,247,247)"
          ],
          [
           0.6,
           "rgb(253,219,199)"
          ],
          [
           0.7,
           "rgb(244,165,130)"
          ],
          [
           0.8,
           "rgb(214,96,77)"
          ],
          [
           0.9,
           "rgb(178,24,43)"
          ],
          [
           1,
           "rgb(103,0,31)"
          ]
         ]
        },
        "height": 800,
        "template": {
         "data": {
          "bar": [
           {
            "error_x": {
             "color": "#2a3f5f"
            },
            "error_y": {
             "color": "#2a3f5f"
            },
            "marker": {
             "line": {
              "color": "#E5ECF6",
              "width": 0.5
             },
             "pattern": {
              "fillmode": "overlay",
              "size": 10,
              "solidity": 0.2
             }
            },
            "type": "bar"
           }
          ],
          "barpolar": [
           {
            "marker": {
             "line": {
              "color": "#E5ECF6",
              "width": 0.5
             },
             "pattern": {
              "fillmode": "overlay",
              "size": 10,
              "solidity": 0.2
             }
            },
            "type": "barpolar"
           }
          ],
          "carpet": [
           {
            "aaxis": {
             "endlinecolor": "#2a3f5f",
             "gridcolor": "white",
             "linecolor": "white",
             "minorgridcolor": "white",
             "startlinecolor": "#2a3f5f"
            },
            "baxis": {
             "endlinecolor": "#2a3f5f",
             "gridcolor": "white",
             "linecolor": "white",
             "minorgridcolor": "white",
             "startlinecolor": "#2a3f5f"
            },
            "type": "carpet"
           }
          ],
          "choropleth": [
           {
            "colorbar": {
             "outlinewidth": 0,
             "ticks": ""
            },
            "type": "choropleth"
           }
          ],
          "contour": [
           {
            "colorbar": {
             "outlinewidth": 0,
             "ticks": ""
            },
            "colorscale": [
             [
              0,
              "#0d0887"
             ],
             [
              0.1111111111111111,
              "#46039f"
             ],
             [
              0.2222222222222222,
              "#7201a8"
             ],
             [
              0.3333333333333333,
              "#9c179e"
             ],
             [
              0.4444444444444444,
              "#bd3786"
             ],
             [
              0.5555555555555556,
              "#d8576b"
             ],
             [
              0.6666666666666666,
              "#ed7953"
             ],
             [
              0.7777777777777778,
              "#fb9f3a"
             ],
             [
              0.8888888888888888,
              "#fdca26"
             ],
             [
              1,
              "#f0f921"
             ]
            ],
            "type": "contour"
           }
          ],
          "contourcarpet": [
           {
            "colorbar": {
             "outlinewidth": 0,
             "ticks": ""
            },
            "type": "contourcarpet"
           }
          ],
          "heatmap": [
           {
            "colorbar": {
             "outlinewidth": 0,
             "ticks": ""
            },
            "colorscale": [
             [
              0,
              "#0d0887"
             ],
             [
              0.1111111111111111,
              "#46039f"
             ],
             [
              0.2222222222222222,
              "#7201a8"
             ],
             [
              0.3333333333333333,
              "#9c179e"
             ],
             [
              0.4444444444444444,
              "#bd3786"
             ],
             [
              0.5555555555555556,
              "#d8576b"
             ],
             [
              0.6666666666666666,
              "#ed7953"
             ],
             [
              0.7777777777777778,
              "#fb9f3a"
             ],
             [
              0.8888888888888888,
              "#fdca26"
             ],
             [
              1,
              "#f0f921"
             ]
            ],
            "type": "heatmap"
           }
          ],
          "histogram": [
           {
            "marker": {
             "pattern": {
              "fillmode": "overlay",
              "size": 10,
              "solidity": 0.2
             }
            },
            "type": "histogram"
           }
          ],
          "histogram2d": [
           {
            "colorbar": {
             "outlinewidth": 0,
             "ticks": ""
            },
            "colorscale": [
             [
              0,
              "#0d0887"
             ],
             [
              0.1111111111111111,
              "#46039f"
             ],
             [
              0.2222222222222222,
              "#7201a8"
             ],
             [
              0.3333333333333333,
              "#9c179e"
             ],
             [
              0.4444444444444444,
              "#bd3786"
             ],
             [
              0.5555555555555556,
              "#d8576b"
             ],
             [
              0.6666666666666666,
              "#ed7953"
             ],
             [
              0.7777777777777778,
              "#fb9f3a"
             ],
             [
              0.8888888888888888,
              "#fdca26"
             ],
             [
              1,
              "#f0f921"
             ]
            ],
            "type": "histogram2d"
           }
          ],
          "histogram2dcontour": [
           {
            "colorbar": {
             "outlinewidth": 0,
             "ticks": ""
            },
            "colorscale": [
             [
              0,
              "#0d0887"
             ],
             [
              0.1111111111111111,
              "#46039f"
             ],
             [
              0.2222222222222222,
              "#7201a8"
             ],
             [
              0.3333333333333333,
              "#9c179e"
             ],
             [
              0.4444444444444444,
              "#bd3786"
             ],
             [
              0.5555555555555556,
              "#d8576b"
             ],
             [
              0.6666666666666666,
              "#ed7953"
             ],
             [
              0.7777777777777778,
              "#fb9f3a"
             ],
             [
              0.8888888888888888,
              "#fdca26"
             ],
             [
              1,
              "#f0f921"
             ]
            ],
            "type": "histogram2dcontour"
           }
          ],
          "mesh3d": [
           {
            "colorbar": {
             "outlinewidth": 0,
             "ticks": ""
            },
            "type": "mesh3d"
           }
          ],
          "parcoords": [
           {
            "line": {
             "colorbar": {
              "outlinewidth": 0,
              "ticks": ""
             }
            },
            "type": "parcoords"
           }
          ],
          "pie": [
           {
            "automargin": true,
            "type": "pie"
           }
          ],
          "scatter": [
           {
            "fillpattern": {
             "fillmode": "overlay",
             "size": 10,
             "solidity": 0.2
            },
            "type": "scatter"
           }
          ],
          "scatter3d": [
           {
            "line": {
             "colorbar": {
              "outlinewidth": 0,
              "ticks": ""
             }
            },
            "marker": {
             "colorbar": {
              "outlinewidth": 0,
              "ticks": ""
             }
            },
            "type": "scatter3d"
           }
          ],
          "scattercarpet": [
           {
            "marker": {
             "colorbar": {
              "outlinewidth": 0,
              "ticks": ""
             }
            },
            "type": "scattercarpet"
           }
          ],
          "scattergeo": [
           {
            "marker": {
             "colorbar": {
              "outlinewidth": 0,
              "ticks": ""
             }
            },
            "type": "scattergeo"
           }
          ],
          "scattergl": [
           {
            "marker": {
             "colorbar": {
              "outlinewidth": 0,
              "ticks": ""
             }
            },
            "type": "scattergl"
           }
          ],
          "scattermap": [
           {
            "marker": {
             "colorbar": {
              "outlinewidth": 0,
              "ticks": ""
             }
            },
            "type": "scattermap"
           }
          ],
          "scattermapbox": [
           {
            "marker": {
             "colorbar": {
              "outlinewidth": 0,
              "ticks": ""
             }
            },
            "type": "scattermapbox"
           }
          ],
          "scatterpolar": [
           {
            "marker": {
             "colorbar": {
              "outlinewidth": 0,
              "ticks": ""
             }
            },
            "type": "scatterpolar"
           }
          ],
          "scatterpolargl": [
           {
            "marker": {
             "colorbar": {
              "outlinewidth": 0,
              "ticks": ""
             }
            },
            "type": "scatterpolargl"
           }
          ],
          "scatterternary": [
           {
            "marker": {
             "colorbar": {
              "outlinewidth": 0,
              "ticks": ""
             }
            },
            "type": "scatterternary"
           }
          ],
          "surface": [
           {
            "colorbar": {
             "outlinewidth": 0,
             "ticks": ""
            },
            "colorscale": [
             [
              0,
              "#0d0887"
             ],
             [
              0.1111111111111111,
              "#46039f"
             ],
             [
              0.2222222222222222,
              "#7201a8"
             ],
             [
              0.3333333333333333,
              "#9c179e"
             ],
             [
              0.4444444444444444,
              "#bd3786"
             ],
             [
              0.5555555555555556,
              "#d8576b"
             ],
             [
              0.6666666666666666,
              "#ed7953"
             ],
             [
              0.7777777777777778,
              "#fb9f3a"
             ],
             [
              0.8888888888888888,
              "#fdca26"
             ],
             [
              1,
              "#f0f921"
             ]
            ],
            "type": "surface"
           }
          ],
          "table": [
           {
            "cells": {
             "fill": {
              "color": "#EBF0F8"
             },
             "line": {
              "color": "white"
             }
            },
            "header": {
             "fill": {
              "color": "#C8D4E3"
             },
             "line": {
              "color": "white"
             }
            },
            "type": "table"
           }
          ]
         },
         "layout": {
          "annotationdefaults": {
           "arrowcolor": "#2a3f5f",
           "arrowhead": 0,
           "arrowwidth": 1
          },
          "autotypenumbers": "strict",
          "coloraxis": {
           "colorbar": {
            "outlinewidth": 0,
            "ticks": ""
           }
          },
          "colorscale": {
           "diverging": [
            [
             0,
             "#8e0152"
            ],
            [
             0.1,
             "#c51b7d"
            ],
            [
             0.2,
             "#de77ae"
            ],
            [
             0.3,
             "#f1b6da"
            ],
            [
             0.4,
             "#fde0ef"
            ],
            [
             0.5,
             "#f7f7f7"
            ],
            [
             0.6,
             "#e6f5d0"
            ],
            [
             0.7,
             "#b8e186"
            ],
            [
             0.8,
             "#7fbc41"
            ],
            [
             0.9,
             "#4d9221"
            ],
            [
             1,
             "#276419"
            ]
           ],
           "sequential": [
            [
             0,
             "#0d0887"
            ],
            [
             0.1111111111111111,
             "#46039f"
            ],
            [
             0.2222222222222222,
             "#7201a8"
            ],
            [
             0.3333333333333333,
             "#9c179e"
            ],
            [
             0.4444444444444444,
             "#bd3786"
            ],
            [
             0.5555555555555556,
             "#d8576b"
            ],
            [
             0.6666666666666666,
             "#ed7953"
            ],
            [
             0.7777777777777778,
             "#fb9f3a"
            ],
            [
             0.8888888888888888,
             "#fdca26"
            ],
            [
             1,
             "#f0f921"
            ]
           ],
           "sequentialminus": [
            [
             0,
             "#0d0887"
            ],
            [
             0.1111111111111111,
             "#46039f"
            ],
            [
             0.2222222222222222,
             "#7201a8"
            ],
            [
             0.3333333333333333,
             "#9c179e"
            ],
            [
             0.4444444444444444,
             "#bd3786"
            ],
            [
             0.5555555555555556,
             "#d8576b"
            ],
            [
             0.6666666666666666,
             "#ed7953"
            ],
            [
             0.7777777777777778,
             "#fb9f3a"
            ],
            [
             0.8888888888888888,
             "#fdca26"
            ],
            [
             1,
             "#f0f921"
            ]
           ]
          },
          "colorway": [
           "#636efa",
           "#EF553B",
           "#00cc96",
           "#ab63fa",
           "#FFA15A",
           "#19d3f3",
           "#FF6692",
           "#B6E880",
           "#FF97FF",
           "#FECB52"
          ],
          "font": {
           "color": "#2a3f5f"
          },
          "geo": {
           "bgcolor": "white",
           "lakecolor": "white",
           "landcolor": "#E5ECF6",
           "showlakes": true,
           "showland": true,
           "subunitcolor": "white"
          },
          "hoverlabel": {
           "align": "left"
          },
          "hovermode": "closest",
          "mapbox": {
           "style": "light"
          },
          "paper_bgcolor": "white",
          "plot_bgcolor": "#E5ECF6",
          "polar": {
           "angularaxis": {
            "gridcolor": "white",
            "linecolor": "white",
            "ticks": ""
           },
           "bgcolor": "#E5ECF6",
           "radialaxis": {
            "gridcolor": "white",
            "linecolor": "white",
            "ticks": ""
           }
          },
          "scene": {
           "xaxis": {
            "backgroundcolor": "#E5ECF6",
            "gridcolor": "white",
            "gridwidth": 2,
            "linecolor": "white",
            "showbackground": true,
            "ticks": "",
            "zerolinecolor": "white"
           },
           "yaxis": {
            "backgroundcolor": "#E5ECF6",
            "gridcolor": "white",
            "gridwidth": 2,
            "linecolor": "white",
            "showbackground": true,
            "ticks": "",
            "zerolinecolor": "white"
           },
           "zaxis": {
            "backgroundcolor": "#E5ECF6",
            "gridcolor": "white",
            "gridwidth": 2,
            "linecolor": "white",
            "showbackground": true,
            "ticks": "",
            "zerolinecolor": "white"
           }
          },
          "shapedefaults": {
           "line": {
            "color": "#2a3f5f"
           }
          },
          "ternary": {
           "aaxis": {
            "gridcolor": "white",
            "linecolor": "white",
            "ticks": ""
           },
           "baxis": {
            "gridcolor": "white",
            "linecolor": "white",
            "ticks": ""
           },
           "bgcolor": "#E5ECF6",
           "caxis": {
            "gridcolor": "white",
            "linecolor": "white",
            "ticks": ""
           }
          },
          "title": {
           "x": 0.05
          },
          "xaxis": {
           "automargin": true,
           "gridcolor": "white",
           "linecolor": "white",
           "ticks": "",
           "title": {
            "standoff": 15
           },
           "zerolinecolor": "white",
           "zerolinewidth": 2
          },
          "yaxis": {
           "automargin": true,
           "gridcolor": "white",
           "linecolor": "white",
           "ticks": "",
           "title": {
            "standoff": 15
           },
           "zerolinecolor": "white",
           "zerolinewidth": 2
          }
         }
        },
        "title": {
         "font": {
          "color": "black",
          "family": "Arial",
          "size": 22
         },
         "text": "Matriz de Correlación"
        },
        "width": 900,
        "xaxis": {
         "anchor": "y",
         "domain": [
          0,
          1
         ],
         "showgrid": false,
         "title": {
          "text": "Variables"
         }
        },
        "yaxis": {
         "anchor": "x",
         "autorange": "reversed",
         "domain": [
          0,
          1
         ],
         "showgrid": false,
         "title": {
          "text": "Variables"
         }
        }
       }
      }
     },
     "metadata": {},
     "output_type": "display_data"
    }
   ],
   "source": [
    "import plotly.express as px\n",
    "\n",
    "# Calcular la matriz de correlación numérica\n",
    "correlation_matrix = df.drop(columns=[\"num_visit_per_week\"]).select_dtypes(include=['int32', 'int64', 'float32', 'float64', 'int8']).corr()\n",
    "\n",
    "# Crear un heatmap interactivo con Plotly\n",
    "fig = px.imshow(\n",
    "    correlation_matrix,\n",
    "    text_auto=\".2f\",             # Mostrar los valores de correlación con 2 decimales\n",
    "    color_continuous_scale='RdBu_r',  # Escala de colores intuitiva (rojo = negativo, azul = positivo)\n",
    "    aspect=\"auto\",               # Ajustar aspecto según número de variables\n",
    "    title=\"Matriz de Correlación\"\n",
    ")\n",
    "\n",
    "# Personalizar diseño\n",
    "fig.update_layout(\n",
    "    width=900,\n",
    "    height=800,\n",
    "    title_font=dict(size=22, family=\"Arial\", color=\"black\"),\n",
    "    coloraxis_colorbar=dict(title=\"Coef. de Correlación\"),\n",
    "    xaxis_title=\"Variables\",\n",
    "    yaxis_title=\"Variables\",\n",
    "    xaxis_showgrid=False,\n",
    "    yaxis_showgrid=False\n",
    ")\n",
    "\n",
    "# Mostrar figura interactiva\n",
    "fig.show() "
   ]
  },
  {
   "cell_type": "code",
   "execution_count": 22,
   "metadata": {},
   "outputs": [
    {
     "data": {
      "image/png": "[encoded data removed]",
      "text/plain": [
       "<Figure size 800x400 with 1 Axes>"
      ]
     },
     "metadata": {},
     "output_type": "display_data"
    },
    {
     "data": {
      "image/png": "[encoded data removed]",
      "text/plain": [
       "<Figure size 800x400 with 1 Axes>"
      ]
     },
     "metadata": {},
     "output_type": "display_data"
    },
    {
     "data": {
      "image/png": "[encoded data removed]",
      "text/plain": [
       "<Figure size 800x400 with 1 Axes>"
      ]
     },
     "metadata": {},
     "output_type": "display_data"
    },
    {
     "data": {
      "image/png": "[encoded data removed]",
      "text/plain": [
       "<Figure size 800x400 with 1 Axes>"
      ]
     },
     "metadata": {},
     "output_type": "display_data"
    },
    {
     "data": {
      "image/png": "[encoded data removed]",
      "text/plain": [
       "<Figure size 800x400 with 1 Axes>"
      ]
     },
     "metadata": {},
     "output_type": "display_data"
    },
    {
     "data": {
      "image/png": "[encoded data removed]",
      "text/plain": [
       "<Figure size 800x400 with 1 Axes>"
      ]
     },
     "metadata": {},
     "output_type": "display_data"
    }
   ],
   "source": [
    "# Distribución de variables numéricas   \n",
    "numerical_cols = df.select_dtypes(include=['int32', 'int64', 'float32', 'float64', 'int8']).columns.tolist()\n",
    "for col in numerical_cols:\n",
    "    plt.figure(figsize=(8, 4))\n",
    "    sns.histplot(df[col], bins=50, kde=True)\n",
    "    plt.title(f\"Distribución de {col}\")\n",
    "    plt.xlabel(col)\n",
    "    plt.ylabel(\"Frecuencia\")\n",
    "    plt.show()"
   ]
  },
  {
   "cell_type": "code",
   "execution_count": 23,
   "metadata": {},
   "outputs": [
    {
     "name": "stdout",
     "output_type": "stream",
     "text": [
      "Clientes únicos: 1490\n",
      "Clientes que nunca compraron: 0\n",
      "Productos únicos: 114\n",
      "Productos que nunca fueron comprados: 0\n"
     ]
    }
   ],
   "source": [
    "\n",
    "# Clientes únicos\n",
    "num_customers = df['customer_id'].nunique()\n",
    "print(f\"Clientes únicos: {num_customers}\")\n",
    "\n",
    "# Clientes que nunca compraron\n",
    "never_purchased_customers = df[[\"customer_id\", \"bought\"]].groupby(\"customer_id\").sum().query(\"bought == 0\").index\n",
    "print(f\"Clientes que nunca compraron: {len(never_purchased_customers)}\")\n",
    "\n",
    "# Productos únicos\n",
    "num_products = df['product_id'].nunique()\n",
    "print(f\"Productos únicos: {num_products}\")\n",
    "\n",
    "# Productos que nunca fueron comprados\n",
    "never_purchased = df[[\"product_id\", \"bought\"]].groupby(\"product_id\").sum().query(\"bought == 0\").index\n",
    "print(f\"Productos que nunca fueron comprados: {len(never_purchased)}\")\n"
   ]
  },
  {
   "cell_type": "markdown",
   "metadata": {},
   "source": [
    "Aquí, confirmammos que no existen clientes sin transacciones asociadas, ni productos que nunca hayan sido comprados. Esto pues en el paso anterior se eliminaron del análisis, los 79 clientes que nunca compraron y 857 productos que no aparecen en las transacciones."
   ]
  },
  {
   "cell_type": "code",
   "execution_count": 24,
   "metadata": {},
   "outputs": [
    {
     "name": "stdout",
     "output_type": "stream",
     "text": [
      "Periodo de datos: 2024-01-01 00:00:00 → 2024-12-31 00:00:00\n",
      "\n",
      "Frecuencia más común entre registros: 0 days 00:00:00\n",
      "Frecuencia promedio entre registros: 0 days 00:02:03.702605380\n",
      "Frecuencia mínima entre registros: 0 days 00:00:00\n",
      "Frecuencia máxima entre registros: 1 days 00:00:00\n",
      "\n",
      "Frecuencia más común entre registros por cliente: 0 days 00:00:00\n",
      "Frecuencia promedio entre registros por cliente: 1 days 20:16:28.900944978\n",
      "Frecuencia mínima entre registros por cliente: 0 days 00:00:00\n",
      "Frecuencia máxima entre registros por cliente: 278 days 00:00:00\n"
     ]
    },
    {
     "data": {
      "image/png": "[encoded data removed]",
      "text/plain": [
       "<Figure size 1200x500 with 1 Axes>"
      ]
     },
     "metadata": {},
     "output_type": "display_data"
    }
   ],
   "source": [
    "# PERIODO Y FRECUENCIA\n",
    "\n",
    "min_date = df_transactions['purchase_date'].min()\n",
    "max_date = df_transactions['purchase_date'].max()\n",
    "print(f\"Periodo de datos: {min_date} → {max_date}\")\n",
    "# Chequear frecuencia promedio de las transacciones totales\n",
    "diffs = df_transactions['purchase_date'].sort_values().diff().dropna()\n",
    "print(f\"\\nFrecuencia más común entre registros: {diffs.mode()[0]}\")\n",
    "print(f\"Frecuencia promedio entre registros: {diffs.mean()}\")\n",
    "print(f\"Frecuencia mínima entre registros: {diffs.min()}\")\n",
    "print(f\"Frecuencia máxima entre registros: {diffs.max()}\")\n",
    "\n",
    "# Chequear frecuencia promedio por cliente\n",
    "df_sorted = df_transactions.sort_values(by=['customer_id', 'purchase_date'])\n",
    "customer_diffs = df_sorted.groupby('customer_id', observed=True)['purchase_date'].diff().dropna()\n",
    "print(f\"\\nFrecuencia más común entre registros por cliente: {customer_diffs.mode()[0]}\")\n",
    "print(f\"Frecuencia promedio entre registros por cliente: {customer_diffs.mean()}\")\n",
    "print(f\"Frecuencia mínima entre registros por cliente: {customer_diffs.min()}\")\n",
    "print(f\"Frecuencia máxima entre registros por cliente: {customer_diffs.max()}\")\n",
    "\n",
    "# Conteo de transacciones por fecha\n",
    "tx_per_day = df_sorted.groupby('purchase_date')['order_id'].count()\n",
    "tx_per_day.plot(figsize=(12,5), title=\"Transacciones por día\")\n",
    "plt.show()\n"
   ]
  },
  {
   "cell_type": "code",
   "execution_count": 25,
   "metadata": {},
   "outputs": [
    {
     "name": "stdout",
     "output_type": "stream",
     "text": [
      "Valores nulos por columna:\n",
      "customer_id             0\n",
      "product_id              0\n",
      "week                    0\n",
      "customer_type           0\n",
      "Y                       0\n",
      "X                       0\n",
      "num_deliver_per_week    0\n",
      "num_visit_per_week      0\n",
      "brand                   0\n",
      "category                0\n",
      "sub_category            0\n",
      "segment                 0\n",
      "package                 0\n",
      "size                    0\n",
      "bought                  0\n",
      "dtype: int64\n",
      "\n",
      "Cantidad de filas duplicadas: 48905\n",
      "Columna 'Y' tiene 8881625 valores negativos.\n",
      "Columna 'X' tiene 8881625 valores negativos.\n",
      "Columna 'bought' tiene 8626690 valores iguales a cero.\n"
     ]
    }
   ],
   "source": [
    "# CALIDAD DE LOS DATOS\n",
    "# Nulos\n",
    "print(\"Valores nulos por columna:\")\n",
    "print(df.isnull().sum())\n",
    "# Duplicados\n",
    "num_duplicates = df.duplicated().sum()\n",
    "print(f\"\\nCantidad de filas duplicadas: {num_duplicates}\")\n",
    "# Valores negativos \n",
    "def check_negative_values(df: pd.DataFrame) -> None:\n",
    "    for col in df.select_dtypes(include=[np.number]).columns:\n",
    "        num_negatives = (df[col] < 0).sum()\n",
    "        num_zeros = (df[col] == 0).sum()\n",
    "        if num_zeros > 0:\n",
    "            print(f\"Columna '{col}' tiene {num_zeros} valores iguales a cero.\")\n",
    "        if num_negatives > 0:\n",
    "            print(f\"Columna '{col}' tiene {num_negatives} valores negativos.\")\n",
    "check_negative_values(df)\n",
    "    "
   ]
  },
  {
   "cell_type": "markdown",
   "metadata": {},
   "source": [
    "En cuanto a los datos nulos, se observa que solo existen valores faltantes en la longitud de la locación de un cliente. Dado que este cliente no presenta ninguna compra efectuada, se puede eliminar dicho registro sin perder información valiosa para el modelo.\n",
    "\n",
    "Por otro lado, no se detectaron valores anómalos en términos de signo: las coordenadas de latitud y longitud contienen números negativos, lo cual es esperable según el sistema de referencia geográfico. Asimismo, se identificaron valores iguales a 0 únicamente en variables donde esto tiene sentido (por ejemplo, conteos o distancias), por lo que no representan un problema."
   ]
  },
  {
   "cell_type": "code",
   "execution_count": 26,
   "metadata": {},
   "outputs": [
    {
     "name": "stderr",
     "output_type": "stream",
     "text": [
      "C:\\Users\\shabe\\AppData\\Local\\Temp\\ipykernel_16516\\115456133.py:5: FutureWarning:\n",
      "\n",
      "The default of observed=False is deprecated and will be changed to True in a future version of pandas. Pass observed=False to retain current behavior or observed=True to adopt the future default and silence this warning.\n",
      "\n"
     ]
    },
    {
     "name": "stdout",
     "output_type": "stream",
     "text": [
      "Distribución de productos promedio comprados semanalmente por cliente:\n",
      "count    1490.000000\n",
      "mean       11.345860\n",
      "std        28.236685\n",
      "min         0.019231\n",
      "25%         1.673077\n",
      "50%         4.089210\n",
      "75%         9.537393\n",
      "max       454.850128\n",
      "Name: average_items, dtype: float64\n"
     ]
    },
    {
     "name": "stderr",
     "output_type": "stream",
     "text": [
      "C:\\Users\\shabe\\AppData\\Local\\Temp\\ipykernel_16516\\115456133.py:7: FutureWarning:\n",
      "\n",
      "The default of observed=False is deprecated and will be changed to True in a future version of pandas. Pass observed=False to retain current behavior or observed=True to adopt the future default and silence this warning.\n",
      "\n"
     ]
    },
    {
     "data": {
      "image/png": "[encoded data removed]",
      "text/plain": [
       "<Figure size 640x480 with 1 Axes>"
      ]
     },
     "metadata": {},
     "output_type": "display_data"
    },
    {
     "data": {
      "image/png": "[encoded data removed]",
      "text/plain": [
       "<Figure size 640x480 with 1 Axes>"
      ]
     },
     "metadata": {},
     "output_type": "display_data"
    }
   ],
   "source": [
    "# Patrones de compra\n",
    "# Cantidad promedio de productos comprados semanalmente por cada cliente\n",
    "prod_per_client = (\n",
    "    df_transactions\n",
    "    .groupby([\"customer_id\", \"product_id\", \"week\"])\n",
    "    .agg(average_items=('items', 'mean'))\n",
    "    .groupby(\"customer_id\")[\"average_items\"]\n",
    "    .sum()\n",
    ")\n",
    "weeks_count = df['week'].nunique()\n",
    "avg_prod_per_client_per_week = prod_per_client / weeks_count\n",
    "print(\"Distribución de productos promedio comprados semanalmente por cliente:\")\n",
    "print(avg_prod_per_client_per_week.describe())\n",
    "sns.histplot(avg_prod_per_client_per_week, bins=50)\n",
    "plt.title(\"Distribución de productos promedio comprados semanalmente por cliente\")\n",
    "plt.xlabel(\"Productos promedio por semana\")\n",
    "plt.ylabel(\"Frecuencia\")\n",
    "plt.show()\n",
    "\n",
    "# Histograma quitando outliers\n",
    "q1 = avg_prod_per_client_per_week.quantile(0.25)\n",
    "q3 = avg_prod_per_client_per_week.quantile(0.75)\n",
    "iqr = q3 - q1\n",
    "lower_bound = q1 - 1.5 * iqr\n",
    "upper_bound = q3 + 1.5 * iqr\n",
    "filtered_data = avg_prod_per_client_per_week[(avg_prod_per_client_per_week >= lower_bound) & (avg_prod_per_client_per_week <= upper_bound)]\n",
    "sns.histplot(filtered_data, bins=50)\n",
    "plt.title(\"Distribución de productos promedio comprados semanalmente por cliente (sin outliers)\")\n",
    "plt.xlabel(\"Productos promedio por semana\")\n",
    "plt.ylabel(\"Frecuencia\")\n",
    "plt.show()\n",
    "\n"
   ]
  },
  {
   "cell_type": "code",
   "execution_count": 27,
   "metadata": {},
   "outputs": [
    {
     "name": "stderr",
     "output_type": "stream",
     "text": [
      "C:\\Users\\shabe\\AppData\\Local\\Temp\\ipykernel_16516\\1524689136.py:4: FutureWarning:\n",
      "\n",
      "The default of observed=False is deprecated and will be changed to True in a future version of pandas. Pass observed=False to retain current behavior or observed=True to adopt the future default and silence this warning.\n",
      "\n"
     ]
    },
    {
     "name": "stdout",
     "output_type": "stream",
     "text": [
      "Distribución de transacciones por cliente:\n",
      "count    1490.000000\n",
      "mean      171.097315\n",
      "std       183.331785\n",
      "min         1.000000\n",
      "25%        55.000000\n",
      "50%       115.000000\n",
      "75%       218.750000\n",
      "max      1619.000000\n",
      "Name: purchase_count, dtype: float64\n"
     ]
    },
    {
     "name": "stderr",
     "output_type": "stream",
     "text": [
      "C:\\Users\\shabe\\AppData\\Local\\Temp\\ipykernel_16516\\1524689136.py:6: FutureWarning:\n",
      "\n",
      "The default of observed=False is deprecated and will be changed to True in a future version of pandas. Pass observed=False to retain current behavior or observed=True to adopt the future default and silence this warning.\n",
      "\n"
     ]
    },
    {
     "data": {
      "image/png": "[encoded data removed]",
      "text/plain": [
       "<Figure size 640x480 with 1 Axes>"
      ]
     },
     "metadata": {},
     "output_type": "display_data"
    }
   ],
   "source": [
    "\n",
    "# Transacciones por cliente\n",
    "tx_per_client = (\n",
    "    df_transactions\n",
    "    .groupby([\"customer_id\", \"product_id\", \"week\"])\n",
    "    .agg(purchase_count=('order_id', 'count'))\n",
    "    .groupby(\"customer_id\")[\"purchase_count\"]\n",
    "    .sum()\n",
    ")\n",
    "print(\"Distribución de transacciones por cliente:\")\n",
    "print(tx_per_client.describe())\n",
    "\n",
    "sns.histplot(tx_per_client, bins=50)\n",
    "plt.title(\"Distribución de transacciones por cliente\")\n",
    "plt.xlabel(\"Transacciones por cliente\")\n",
    "plt.ylabel(\"Frecuencia\")\n",
    "plt.show()\n"
   ]
  },
  {
   "cell_type": "code",
   "execution_count": 28,
   "metadata": {},
   "outputs": [
    {
     "name": "stdout",
     "output_type": "stream",
     "text": [
      "Periodo de recompra promedio por SKU:\n",
      "count    254821.000000\n",
      "mean          0.015807\n",
      "std           0.351147\n",
      "min           0.000000\n",
      "25%           0.000000\n",
      "50%           0.000000\n",
      "75%           0.000000\n",
      "max          49.000000\n",
      "Name: week, dtype: float64\n"
     ]
    },
    {
     "data": {
      "image/png": "[encoded data removed]",
      "text/plain": [
       "<Figure size 640x480 with 1 Axes>"
      ]
     },
     "metadata": {},
     "output_type": "display_data"
    },
    {
     "name": "stdout",
     "output_type": "stream",
     "text": [
      "Periodo de recompra promedio por SKU (fechas):\n",
      "count                       254821\n",
      "mean     0 days 02:21:34.847755875\n",
      "std      1 days 14:10:43.822358630\n",
      "min                0 days 00:00:00\n",
      "25%                0 days 00:00:00\n",
      "50%                0 days 00:00:00\n",
      "75%                0 days 00:00:00\n",
      "max              343 days 00:00:00\n",
      "Name: purchase_date, dtype: object\n"
     ]
    },
    {
     "data": {
      "image/png": "[encoded data removed]",
      "text/plain": [
       "<Figure size 640x480 with 1 Axes>"
      ]
     },
     "metadata": {},
     "output_type": "display_data"
    }
   ],
   "source": [
    "# periodo de recompra promedio de cada SKU por semana\n",
    "df_filtered = df[df['bought'] == 1].sort_values(by=['product_id', 'week'])\n",
    "product_diffs = df_filtered.groupby('product_id', observed=True)['week'].diff().dropna()\n",
    "print(\"Periodo de recompra promedio por SKU:\")\n",
    "print(product_diffs.describe())\n",
    "sns.histplot(product_diffs, bins=50)\n",
    "plt.title(\"Distribución del periodo de recompra por SKU (semanas)\")\n",
    "plt.xlabel(\"Semanas entre compras\")\n",
    "plt.ylabel(\"Frecuencia\")\n",
    "plt.show()\n",
    "\n",
    "# periodo de recompra promedio de cada SKU por fecha\n",
    "df_filtered_date = df_transactions.sort_values(by=['product_id', 'purchase_date'])\n",
    "product_diffs_date = df_filtered_date.groupby('product_id', observed=True)['purchase_date'].diff().dropna()\n",
    "print(\"Periodo de recompra promedio por SKU (fechas):\")\n",
    "print(product_diffs_date.describe())\n",
    "sns.histplot(product_diffs_date.dt.days, bins=50)\n",
    "plt.title(\"Distribución del periodo de recompra por SKU (fechas)\")\n",
    "plt.xlabel(\"Días entre compras\")\n",
    "plt.ylabel(\"Frecuencia\")\n",
    "plt.show()\n"
   ]
  },
  {
   "cell_type": "markdown",
   "metadata": {},
   "source": [
    "## 📌 Holdout [0.25 puntos]\n",
    "\n",
    "Para evaluar correctamente el modelo y garantizar su capacidad de generalización, se deben dividir los datos en tres conjuntos: \n",
    "- `Entrenamiento` : Para ajustar los parámetros.\n",
    "- `Validación`: Para optimizar hiperparámetros y seleccionar el mejor modelo.\n",
    "- `Prueba` : Para evaluar el rendimiento final en datos no vistos.\n",
    "\n",
    "👀 **Hint**: *Recuerde que los datos tienen una temporalidad que debe considerarse al momento de separarlos, para evitar fugas de información. Es importante justificar la estrategia de partición elegida y visualizar la distribución temporal de los conjuntos generados*"
   ]
  },
  {
   "cell_type": "code",
   "execution_count": 29,
   "metadata": {},
   "outputs": [
    {
     "name": "stdout",
     "output_type": "stream",
     "text": [
      "Distribución temporal de los conjuntos:\n",
      "Train: 1 → 37 (6314730 registros)\n",
      "Val:   38 → 45 (1366717 registros)\n",
      "Test:  46 → 52 (1200178 registros)\n"
     ]
    },
    {
     "data": {
      "image/png": "[encoded data removed]",
      "text/plain": [
       "<Figure size 1800x500 with 3 Axes>"
      ]
     },
     "metadata": {},
     "output_type": "display_data"
    },
    {
     "name": "stdout",
     "output_type": "stream",
     "text": [
      "Train Set - Total: 6314730, Bought=1: 163476, Ratio: 0.0259\n",
      "Validation Set - Total: 1366717, Bought=1: 43057, Ratio: 0.0315\n",
      "Test Set - Total: 1200178, Bought=1: 48402, Ratio: 0.0403\n"
     ]
    }
   ],
   "source": [
    "import numpy as np\n",
    "from sklearn.model_selection import train_test_split\n",
    "\n",
    "# Ordenar datos por fecha para respetar temporalidad\n",
    "df_temporal = df.sort_values('week').copy()\n",
    "\n",
    "# Definir puntos de corte temporal\n",
    "# 70% train, 15% validation, 15% test\n",
    "train_end = df_temporal['week'].quantile(0.70)\n",
    "val_end = df_temporal['week'].quantile(0.85)\n",
    "\n",
    "# Separar los conjuntos basados en tiempo\n",
    "train_data = df_temporal[df_temporal['week'] <= train_end]\n",
    "val_data = df_temporal[(df_temporal['week'] > train_end) & \n",
    "                       (df_temporal['week'] <= val_end)]\n",
    "test_data = df_temporal[df_temporal['week'] > val_end]\n",
    "\n",
    "print(\"Distribución temporal de los conjuntos:\")\n",
    "print(f\"Train: {train_data['week'].min()} → {train_data['week'].max()} ({len(train_data)} registros)\")\n",
    "print(f\"Val:   {val_data['week'].min()} → {val_data['week'].max()} ({len(val_data)} registros)\")\n",
    "print(f\"Test:  {test_data['week'].min()} → {test_data['week'].max()} ({len(test_data)} registros)\")\n",
    "\n",
    "# Verificar distribución de la variable objetivo en cada conjunto\n",
    "fig, axes = plt.subplots(1, 3, figsize=(18, 5), sharey=True)\n",
    "sns.countplot(x='bought', data=train_data, ax=axes[0])\n",
    "axes[0].set_title('Train Set')\n",
    "sns.countplot(x='bought', data=val_data, ax=axes[1])\n",
    "axes[1].set_title('Validation Set')\n",
    "sns.countplot(x='bought', data=test_data, ax=axes[2])\n",
    "axes[2].set_title('Test Set')\n",
    "plt.suptitle('Distribución de la variable objetivo \"bought\"')\n",
    "plt.show()\n",
    "\n",
    "# Calcular proporción de la variable objetivo en cada conjunto\n",
    "def calculate_bought_ratio(data, set_name):\n",
    "    total = len(data)\n",
    "    bought_1 = data['bought'].sum()\n",
    "    ratio = bought_1 / total if total > 0 else 0\n",
    "    print(f\"{set_name} - Total: {total}, Bought=1: {bought_1}, Ratio: {ratio:.4f}\")\n",
    "calculate_bought_ratio(train_data, \"Train Set\")\n",
    "calculate_bought_ratio(val_data, \"Validation Set\")\n",
    "calculate_bought_ratio(test_data, \"Test Set\")\n"
   ]
  },
  {
   "cell_type": "code",
   "execution_count": 30,
   "metadata": {},
   "outputs": [
    {
     "data": {
      "image/png": "[encoded data removed]",
      "text/plain": [
       "<Figure size 1200x600 with 1 Axes>"
      ]
     },
     "metadata": {},
     "output_type": "display_data"
    }
   ],
   "source": [
    "# Visualización temporal de los conjuntos generados\n",
    "plt.figure(figsize=(12, 6))\n",
    "plt.hist(train_data['week'], bins=range(int(df['week'].min()), int(df['week'].max()) + 2), alpha=0.5, label='Train', color='blue')\n",
    "plt.hist(val_data['week'], bins=range(int(df['week'].min()), int(df['week'].max()) + 2), alpha=0.5, label='Validation', color='orange')\n",
    "plt.hist(test_data['week'], bins=range(int(df['week'].min()), int(df['week'].max()) + 2), alpha=0.5, label='Test', color='green')\n",
    "plt.xlabel('Week')\n",
    "plt.ylabel('Number of Records')\n",
    "plt.title('Temporal Distribution of Train, Validation, and Test Sets')\n",
    "plt.legend()\n",
    "plt.show()"
   ]
  },
  {
   "cell_type": "markdown",
   "metadata": {},
   "source": [
    "### Justificación de la división 70-15-15 y de la consideración temporal\n",
    "\n",
    "Se utilizó una división 70/15/15 para los conjuntos de entrenamiento, validación y prueba, respectivamente, con el fin de equilibrar la cantidad de datos disponibles para el aprendizaje y la evaluación del modelo. La separación se realizó de forma temporal —usando las primeras semanas para entrenamiento, las siguientes para validación y las últimas para prueba— con el objetivo de evitar data leakage y simular un escenario real de predicción, donde el modelo aprende de datos históricos y se evalúa sobre períodos futuros no observados."
   ]
  },
  {
   "cell_type": "markdown",
   "metadata": {},
   "source": [
    "## 📌 Feature Engineering [0.5 puntos]\n",
    "\n",
    "<center>\n",
    "<img src=\"https://i.imgur.com/CmXZSSC.gif\" width=\"300\" height=\"200\">"
   ]
  },
  {
   "cell_type": "markdown",
   "metadata": {},
   "source": [
    "En esta sección, se deben construir pipelines para automatizar el preprocesamiento de los datos, lo cual garantizará que el flujo de trabajo sea reproducible y eficiente para esta entrega y las futuras. El objetivo es aplicar una serie de transformaciones en un orden definido para asegurar que los datos estén listos para los modelos a entrenar. El pipeline final debe incluir las técnicas de pre-procesamiento que se deben aplicar a los distintos datos (según lo que consideren necesario para el problema). Por ejemplo:\n",
    "\n",
    "- **Imputación de valores nulos**: Manejo de datos faltantes mediante estrategias adecuadas (media, mediana, moda, interpolación, etc.). \n",
    "\n",
    "- **Transformaciones personalizadas**: Uso de ColumnTransformer para aplicar diferentes transformaciones a columnas específicas.\n",
    "\n",
    "- **Codificación de variables categóricas**: Convertir datos categóricos a un formato numérico adecuado (One-Hot Encoding, Label Encoding, etc.).\n",
    "\n",
    "- **Discretización de variables**: Conversión de variables numéricas continuas en categorías si son relevantes para el desempeño del modelo a entrenar.\n",
    "\n",
    "- **Estandarización o normalización** : Ajustar la escala de los datos para mejorar el rendimiento de los algoritmos sensibles a la magnitud de las variables.\n",
    "\n",
    "- **Eliminación o transformación de valores atípicos**: Identificar y tratar con datos outliers para mejorar la robustez del modelo.\n",
    "\n",
    "- **Nuevas características** : Creación de variables adicionales que puedan aportar información relevante al modelo.\n",
    "\n",
    "Cada una de estas transformaciones debe ser justificada en función de su relevancia para el problema y los datos, y es importante evaluar su impacto en el rendimiento del modelo. Además, el pipeline debe ser flexible y modular para poder probar diferentes configuraciones de preprocesamiento."
   ]
  },
  {
   "cell_type": "code",
   "execution_count": 31,
   "metadata": {},
   "outputs": [
    {
     "name": "stdout",
     "output_type": "stream",
     "text": [
      "Columnas numéricas: ['X', 'Y', 'size', 'num_deliver_per_week']\n",
      "Columnas categóricas: ['customer_type', 'brand', 'category', 'sub_category', 'segment', 'package']\n",
      "\n",
      "Aplicando transformaciones...\n",
      "Forma de X_train después del preprocesamiento: (6314730, 46)\n",
      "Forma de X_val después del preprocesamiento: (1366717, 46)\n",
      "Forma de X_test después del preprocesamiento: (1200178, 46)\n"
     ]
    }
   ],
   "source": [
    "from sklearn.preprocessing import RobustScaler, OneHotEncoder\n",
    "from sklearn.compose import ColumnTransformer\n",
    "from sklearn.pipeline import Pipeline\n",
    "from sklearn.impute import SimpleImputer\n",
    "from sklearn import set_config\n",
    "\n",
    "set_config(transform_output=\"pandas\")\n",
    "X_train, y_train = train_data.drop(columns=[\"bought\"]), train_data[\"bought\"]\n",
    "X_val, y_val = val_data.drop(columns=[\"bought\"]), val_data[\"bought\"]\n",
    "X_test, y_test = test_data.drop(columns=[\"bought\"]), test_data[\"bought\"]\n",
    "\n",
    "# Para el escalamiento de las features numéricas, dejamos fuera \"num_visit_per_week\" porque son 1's.\n",
    "numerical_features = [\"X\", \"Y\", \"size\", \"num_deliver_per_week\"]\n",
    "# Para las categóricas, usamos todas las que son de tipo object o category, dejando fuera \"customer_id\" y \"product_id\" para evitar alta cardinalidad.\n",
    "categorical_features = ['customer_type', 'brand', 'category', 'sub_category', 'segment', 'package']\n",
    "\n",
    "print(\"Columnas numéricas:\", numerical_features)\n",
    "print(\"Columnas categóricas:\", categorical_features)\n",
    "\n",
    "\n",
    "# Como no existen valores nulos en el dataset, no es necesario imputar, pero se incluye para robustez futura.\n",
    "\n",
    "# Pipeline para features numéricas\n",
    "numerical_pipeline = Pipeline([\n",
    "    ('imputer', SimpleImputer(strategy='median')),  # Imputar valores faltantes con mediana\n",
    "    ('scaler', RobustScaler())  # Estandarizar valores\n",
    "])\n",
    "\n",
    "# Pipeline para features categóricas\n",
    "categorical_pipeline = Pipeline([\n",
    "    ('imputer', SimpleImputer(strategy='constant', fill_value='missing')),  # Imputar con 'missing'\n",
    "    ('onehot', OneHotEncoder(handle_unknown='ignore', sparse_output=False))  # One-hot encoding\n",
    "])\n",
    "\n",
    "# Combinar pipelines con ColumnTransformer\n",
    "preprocessor = ColumnTransformer(\n",
    "    transformers=[\n",
    "        ('num', numerical_pipeline, numerical_features),\n",
    "        ('cat', categorical_pipeline, categorical_features)\n",
    "    ],\n",
    "    remainder='passthrough'  # Mantener columnas no especificadas\n",
    ")\n",
    "\n",
    "# Crear pipeline completo de preprocesamiento\n",
    "feature_engineering_pipeline = Pipeline([\n",
    "    ('preprocessor', preprocessor)\n",
    "])\n",
    "\n",
    "# Aplicar transformaciones a los conjuntos\n",
    "print(\"\\nAplicando transformaciones...\")\n",
    "X_train_processed = feature_engineering_pipeline.fit_transform(X_train)\n",
    "X_val_processed = feature_engineering_pipeline.transform(X_val)\n",
    "X_test_processed = feature_engineering_pipeline.transform(X_test)\n",
    "\n",
    "\n",
    "\n",
    "print(f\"Forma de X_train después del preprocesamiento: {X_train_processed.shape}\")\n",
    "print(f\"Forma de X_val después del preprocesamiento: {X_val_processed.shape}\")\n",
    "print(f\"Forma de X_test después del preprocesamiento: {X_test_processed.shape}\")\n"
   ]
  },
  {
   "cell_type": "code",
   "execution_count": 32,
   "metadata": {},
   "outputs": [],
   "source": [
    "# Optimización de tipos\n",
    "X_train_processed = optimize_numeric_types(X_train_processed)\n",
    "X_val_processed = optimize_numeric_types(X_val_processed) \n",
    "X_test_processed = optimize_numeric_types(X_test_processed)\n",
    "\n",
    "X_train_processed.rename(columns=lambda x: x.replace(\"remainder__\", \"\"), inplace=True)\n",
    "X_val_processed.rename(columns=lambda x: x.replace(\"remainder__\", \"\"), inplace=True)\n",
    "X_test_processed.rename(columns=lambda x: x.replace(\"remainder__\", \"\"), inplace=True)"
   ]
  },
  {
   "cell_type": "code",
   "execution_count": 33,
   "metadata": {},
   "outputs": [
    {
     "data": {
      "image/png": "[encoded data removed]",
      "text/plain": [
       "<Figure size 800x600 with 1 Axes>"
      ]
     },
     "metadata": {},
     "output_type": "display_data"
    },
    {
     "name": "stderr",
     "output_type": "stream",
     "text": [
      "c:\\Users\\shabe\\Documents\\DCC\\10_Semestre\\Lab\\MDS7202_Free_Riders\\.venv\\Lib\\site-packages\\IPython\\core\\pylabtools.py:170: UserWarning:\n",
      "\n",
      "Creating legend with loc=\"best\" can be slow with large amounts of data.\n",
      "\n"
     ]
    },
    {
     "data": {
      "image/png": "[encoded data removed]",
      "text/plain": [
       "<Figure size 800x600 with 1 Axes>"
      ]
     },
     "metadata": {},
     "output_type": "display_data"
    }
   ],
   "source": [
    "# Clusterización de datos georáficos\n",
    "from sklearn.cluster import KMeans\n",
    "\n",
    "#Vizualización de datos geográficos\n",
    "plt.figure(figsize=(8, 6))\n",
    "plt.scatter(X_train_processed['num__X'], X_train_processed['num__Y'], alpha=0.5)\n",
    "plt.title('Distribución Geográfica de Clientes')\n",
    "plt.xlabel('X')\n",
    "plt.ylabel('Y')\n",
    "plt.show()\n",
    "\n",
    "kmeans = KMeans(n_clusters=2, random_state=1892)\n",
    "geo_data = X_train_processed[['num__X', 'num__Y']]\n",
    "kmeans.fit(geo_data)\n",
    "X_train_processed['cluster'] = kmeans.labels_\n",
    "X_val_processed['cluster'] = kmeans.predict(X_val_processed[['num__X', 'num__Y']])\n",
    "X_test_processed['cluster'] = kmeans.predict(X_test_processed[['num__X', 'num__Y']])\n",
    "\n",
    "#Visualización de clusters \n",
    "plt.figure(figsize=(8, 6))\n",
    "\n",
    "cluster_ids = X_train_processed['cluster'].unique()\n",
    "\n",
    "for cluster_id in cluster_ids:\n",
    "    # Filtrar los datos para el clúster actual\n",
    "    subset = X_train_processed[X_train_processed['cluster'] == cluster_id]\n",
    "\n",
    "    # Graficar el subconjunto. Matplotlib asigna automáticamente un color a cada llamada a scatter\n",
    "    plt.scatter(\n",
    "        subset['num__X'],\n",
    "        subset['num__Y'],\n",
    "        alpha=0.5,\n",
    "        label=f'Cluster {cluster_id}' # Etiqueta para la leyenda\n",
    "    )\n",
    "\n",
    "# Configurar la gráfica\n",
    "plt.title('Clusters de Clientes (K=2)')\n",
    "plt.xlabel('X')\n",
    "plt.ylabel('Y')\n",
    "plt.legend(title='ID del Clúster') # Mostrar la leyenda\n",
    "plt.grid(True, linestyle='--', alpha=0.6)\n",
    "plt.show()\n",
    "\n",
    "X_train_ = X_train_processed.drop(columns=['num__X', 'num__Y'])\n",
    "X_val_ = X_val_processed.drop(columns=['num__X', 'num__Y'])\n",
    "X_test_ = X_test_processed.drop(columns=['num__X', 'num__Y'])"
   ]
  },
  {
   "cell_type": "code",
   "execution_count": 34,
   "metadata": {},
   "outputs": [],
   "source": [
    "# Ideas de nuevas features:\n",
    "#   recency → semanas desde la última compra.\n",
    "#   frequency → número de veces que compró en las últimas 6 semanas.\n",
    "#   customer_product_share → % de veces que este producto representa dentro de las compras del cliente.\n",
    "#   trend → comparación entre compras recientes y antiguas.\n",
    "def create_advanced_features(X: pd.DataFrame, y: pd.Series) -> pd.DataFrame:\n",
    "    X_new = X.copy()\n",
    "    X_new[\"bought\"] = y.values\n",
    "\n",
    "    # Asegurar orden temporal por cliente, producto y semana\n",
    "    X_new = X_new.sort_values(by=[\"customer_id\", \"product_id\", \"week\"]).reset_index(drop=True)\n",
    "\n",
    "    # Recency — semanas desde última compra\n",
    "    # Registrar la semana en la que se compró (sólo si bought == 1)\n",
    "    X_new[\"last_purchase_week\"] = (\n",
    "        X_new.groupby([\"customer_id\", \"product_id\"])[\"week\"]\n",
    "        .transform(lambda x: x.where(X_new.loc[x.index, \"bought\"] == 1).ffill())\n",
    "    )\n",
    "\n",
    "    X_new[\"recency\"] = X_new[\"week\"] - X_new[\"last_purchase_week\"]\n",
    "    # Si nunca compró, usar valor máximo posible\n",
    "    X_new[\"recency\"] = X_new[\"recency\"].fillna(X_new[\"week\"].max())\n",
    "\n",
    "    # Frequency — compras en últimas 6 semanas\n",
    "    # Rolling sum por cliente-producto\n",
    "    X_new[\"frequency\"] = (\n",
    "        X_new.groupby([\"customer_id\", \"product_id\"])[\"bought\"]\n",
    "        .transform(lambda x: x.rolling(window=6, min_periods=1).sum())\n",
    "    )\n",
    "\n",
    "    # Customer Product Share — % de veces que este producto representa en compras del cliente\n",
    "    total_purchases = X_new.groupby(\"customer_id\")[\"bought\"].transform(\"sum\")\n",
    "    total_purchases = total_purchases.replace(0, np.nan)  # evitar división por 0\n",
    "    X_new[\"customer_product_share\"] = X_new[\"frequency\"] / total_purchases\n",
    "    X_new[\"customer_product_share\"] = X_new[\"customer_product_share\"].fillna(0)\n",
    "\n",
    "    # Trend — diferencia entre compras recientes (3 semanas) y previas\n",
    "    recent = (\n",
    "        X_new.groupby([\"customer_id\", \"product_id\"])[\"bought\"]\n",
    "        .transform(lambda x: x.rolling(window=3, min_periods=1).sum())\n",
    "    )\n",
    "\n",
    "    X_new[\"trend\"] = X_new[\"frequency\"] - recent\n",
    "\n",
    "    # Limpieza final\n",
    "    X_new.drop(columns=[\"last_purchase_week\", \"bought\"], inplace=True)\n",
    "\n",
    "    return X_new\n",
    "\n",
    "# Aplicar feature engineering avanzado\n",
    "X_train_feat = create_advanced_features(X_train_, y_train)\n",
    "X_val_feat = create_advanced_features(X_val_, y_val)\n",
    "X_test_feat = create_advanced_features(X_test_, y_test)"
   ]
  },
  {
   "cell_type": "code",
   "execution_count": 35,
   "metadata": {},
   "outputs": [
    {
     "name": "stdout",
     "output_type": "stream",
     "text": [
      "Valores nulos en X_train_feat:\n",
      "Series([], dtype: int64)\n",
      "Valores nulos en X_val_feat:\n",
      "Series([], dtype: int64)\n",
      "Valores nulos en X_test_feat:\n",
      "Series([], dtype: int64)\n"
     ]
    }
   ],
   "source": [
    "X_train_feat['recency'] = X_train_feat['recency'].astype('int16')\n",
    "X_train_feat['frequency'] = X_train_feat['frequency'].astype('int16')\n",
    "X_train_feat['trend'] = X_train_feat['trend'].astype('int16')\n",
    "\n",
    "# Verificar si hay nulos (imprimir solo los que tengan nulos)\n",
    "print(\"Valores nulos en X_train_feat:\")\n",
    "print(X_train_feat.isnull().sum()[X_train_feat.isnull().sum() > 0])\n",
    "print(\"Valores nulos en X_val_feat:\")\n",
    "print(X_val_feat.isnull().sum()[X_val_feat.isnull().sum() > 0])\n",
    "print(\"Valores nulos en X_test_feat:\")\n",
    "print(X_test_feat.isnull().sum()[X_test_feat.isnull().sum() > 0])"
   ]
  },
  {
   "cell_type": "code",
   "execution_count": 36,
   "metadata": {},
   "outputs": [],
   "source": [
    "# Manejo outliers\n",
    "# Detección outliers en variables numéricas (IQR)\n",
    "def iqr_outlier_detection(X: pd.DataFrame) -> None:\n",
    "    # Selección de columnas numéricas\n",
    "    X_num = X.select_dtypes(include=['float32', 'float64', 'int16', 'int32', 'int64'])\n",
    "    continuous_cols = [col for col in X_num.columns if X_num[col].nunique() > 2]\n",
    "\n",
    "    X_cont = X_num[continuous_cols]\n",
    "    Q1 = np.percentile(X_cont, 25, axis=0)\n",
    "    Q3 = np.percentile(X_cont, 75, axis=0)\n",
    "    IQR = Q3 - Q1\n",
    "    outliers = (X_cont < (Q1 - 1.5 * IQR)) | (X_cont > (Q3 + 1.5 * IQR))\n",
    "    # Boxplot para cada variable numérica\n",
    "    for i, col in enumerate(continuous_cols):\n",
    "        plt.figure(figsize=(8, 4))\n",
    "        sns.boxplot(x=X_cont[col])\n",
    "        plt.title(f\"Boxplot de {col}\")\n",
    "        plt.xlabel(col)\n",
    "        plt.show()\n",
    "    \n",
    "    print(\"Número de outliers por columna:\")\n",
    "    print(outliers.sum())"
   ]
  },
  {
   "cell_type": "code",
   "execution_count": 37,
   "metadata": {},
   "outputs": [
    {
     "name": "stdout",
     "output_type": "stream",
     "text": [
      "Outliers en conjunto de entrenamiento:\n"
     ]
    },
    {
     "data": {
      "image/png": "[encoded data removed]",
      "text/plain": [
       "<Figure size 800x400 with 1 Axes>"
      ]
     },
     "metadata": {},
     "output_type": "display_data"
    },
    {
     "data": {
      "image/png": "[encoded data removed]",
      "text/plain": [
       "<Figure size 800x400 with 1 Axes>"
      ]
     },
     "metadata": {},
     "output_type": "display_data"
    },
    {
     "data": {
      "image/png": "[encoded data removed]",
      "text/plain": [
       "<Figure size 800x400 with 1 Axes>"
      ]
     },
     "metadata": {},
     "output_type": "display_data"
    },
    {
     "data": {
      "image/png": "[encoded data removed]",
      "text/plain": [
       "<Figure size 800x400 with 1 Axes>"
      ]
     },
     "metadata": {},
     "output_type": "display_data"
    },
    {
     "data": {
      "image/png": "[encoded data removed]",
      "text/plain": [
       "<Figure size 800x400 with 1 Axes>"
      ]
     },
     "metadata": {},
     "output_type": "display_data"
    },
    {
     "data": {
      "image/png": "[encoded data removed]",
      "text/plain": [
       "<Figure size 800x400 with 1 Axes>"
      ]
     },
     "metadata": {},
     "output_type": "display_data"
    },
    {
     "data": {
      "image/png": "[encoded data removed]",
      "text/plain": [
       "<Figure size 800x400 with 1 Axes>"
      ]
     },
     "metadata": {},
     "output_type": "display_data"
    },
    {
     "name": "stdout",
     "output_type": "stream",
     "text": [
      "Número de outliers por columna:\n",
      "num__size                     165536\n",
      "num__num_deliver_per_week    1194392\n",
      "week                               0\n",
      "recency                       655425\n",
      "frequency                     388770\n",
      "customer_product_share        388770\n",
      "trend                         267426\n",
      "dtype: int64\n"
     ]
    }
   ],
   "source": [
    "print(\"Outliers en conjunto de entrenamiento:\")\n",
    "iqr_outlier_detection(X_train_feat)"
   ]
  },
  {
   "cell_type": "markdown",
   "metadata": {},
   "source": [
    "### TODO: Jsutificar eliminación o no de Outliers"
   ]
  },
  {
   "cell_type": "code",
   "execution_count": 70,
   "metadata": {},
   "outputs": [
    {
     "name": "stdout",
     "output_type": "stream",
     "text": [
      "✅ Procesamiento completo con clustering previo y outlier params\n",
      "X_train shape: (6314730, 51)\n",
      "X_val shape: (1366717, 51)\n",
      "X_test shape: (1200178, 51)\n"
     ]
    }
   ],
   "source": [
    "import pandas as pd\n",
    "import numpy as np\n",
    "import matplotlib.pyplot as plt\n",
    "\n",
    "from sklearn.preprocessing import RobustScaler, OneHotEncoder\n",
    "from sklearn.compose import ColumnTransformer\n",
    "from sklearn.pipeline import Pipeline, FunctionTransformer\n",
    "from sklearn.impute import SimpleImputer\n",
    "from sklearn.cluster import KMeans\n",
    "from sklearn.ensemble import IsolationForest\n",
    "from sklearn import set_config\n",
    "\n",
    "set_config(transform_output=\"pandas\")\n",
    "\n",
    "# 1. Feature Engineering\n",
    "def create_advanced_features(X: pd.DataFrame, y: pd.Series) -> pd.DataFrame:\n",
    "    X_new = X.copy()\n",
    "    X_new['bought'] = y\n",
    "    X_new = X_new.sort_values(by=['customer_id', 'product_id', 'week'])\n",
    "    \n",
    "    # Recency\n",
    "    X_new['last_purchase_week'] = X_new.groupby(['customer_id', 'product_id'])['week'].shift(1)\n",
    "    X_new['recency'] = X_new['week'] - X_new['last_purchase_week']\n",
    "    X_new.fillna({'recency': X_new['recency'].max()}, inplace=True)\n",
    "    \n",
    "    # Frequency\n",
    "    X_new['frequency'] = (\n",
    "        X_new.groupby(['customer_id', 'product_id'])['bought']\n",
    "        .rolling(window=6, min_periods=1)\n",
    "        .sum()\n",
    "        .reset_index(level=[0, 1], drop=True)\n",
    "    )\n",
    "    \n",
    "    # Customer-product share\n",
    "    total_purchases = X_new.groupby('customer_id')['bought'].transform('sum')\n",
    "    X_new['customer_product_share'] = X_new['frequency'] / total_purchases\n",
    "    X_new.fillna({'customer_product_share': 0}, inplace=True)\n",
    "    \n",
    "    # Trend\n",
    "    recent_purchases = (\n",
    "        X_new.groupby(['customer_id', 'product_id'])['bought']\n",
    "        .rolling(window=3, min_periods=1)\n",
    "        .sum()\n",
    "        .reset_index(level=[0, 1], drop=True)\n",
    "    )\n",
    "    past_purchases = X_new['frequency'] - recent_purchases\n",
    "    X_new['trend'] = recent_purchases - past_purchases\n",
    "\n",
    "    X_new.drop(columns=['bought', 'last_purchase_week'], inplace=True)\n",
    "    return X_new\n",
    "\n",
    "\n",
    "# 2. Detección de outliers (con parámetros configurables)\n",
    "def detect_outliers(X: pd.DataFrame, numeric_cols: list, contamination: float = 0.01) -> pd.DataFrame:\n",
    "    X_out = X.copy()\n",
    "\n",
    "    if len(numeric_cols) == 0:\n",
    "        raise ValueError(\"No hay columnas numéricas para detectar outliers.\")\n",
    "\n",
    "    iso = IsolationForest(contamination=contamination, random_state=42)\n",
    "    preds = iso.fit_predict(X_out[numeric_cols])\n",
    "    X_out['is_outlier'] = (preds == -1).astype(int)\n",
    "    return X_out\n",
    "\n",
    "\n",
    "# 3. Clustering geográfico\n",
    "def add_geo_clusters(X_train, X_val, X_test, n_clusters=2):\n",
    "    \"\"\"Aplica KMeans a coordenadas originales y agrega columna 'cluster' a cada set.\"\"\"\n",
    "    if not {'X', 'Y'}.issubset(X_train.columns):\n",
    "        raise ValueError(\"Se requieren las columnas 'X' y 'Y' para el clustering.\")\n",
    "\n",
    "    kmeans = KMeans(n_clusters=n_clusters, random_state=1892)\n",
    "    kmeans.fit(X_train[['X', 'Y']])\n",
    "\n",
    "    X_train = X_train.copy()\n",
    "    X_val = X_val.copy()\n",
    "    X_test = X_test.copy()\n",
    "    X_train['cluster'] = kmeans.labels_\n",
    "    X_val['cluster'] = kmeans.predict(X_val[['X', 'Y']])\n",
    "    X_test['cluster'] = kmeans.predict(X_test[['X', 'Y']])\n",
    "\n",
    "    X_train = X_train.drop(columns=['X', 'Y'])\n",
    "    X_val = X_val.drop(columns=['X', 'Y'])\n",
    "    X_test = X_test.drop(columns=['X', 'Y'])\n",
    "\n",
    "    return X_train, X_val, X_test\n",
    "\n",
    "\n",
    "# 4. División de datos\n",
    "X_train, y_train = train_data.drop(columns=['bought']), train_data['bought']\n",
    "X_val, y_val = val_data.drop(columns=['bought']), val_data['bought']\n",
    "X_test, y_test = test_data.drop(columns=['bought']), test_data['bought']\n",
    "\n",
    "# 5. Feature engineering\n",
    "X_train_feat = create_advanced_features(X_train, y_train)\n",
    "X_val_feat = create_advanced_features(X_val, y_val)\n",
    "X_test_feat = create_advanced_features(X_test, y_test)\n",
    "\n",
    "# 6. Clustering \n",
    "X_train_feat, X_val_feat, X_test_feat = add_geo_clusters(X_train_feat, X_val_feat, X_test_feat, n_clusters=2)\n",
    "\n",
    "# 7. Pipelines de preprocesamiento\n",
    "numerical_features = [\"size\", \"num_deliver_per_week\", \"recency\", \"frequency\", \"customer_product_share\", \"trend\"]\n",
    "categorical_features = ['customer_type', 'brand', 'category', 'sub_category', 'segment', 'package', 'cluster']\n",
    "\n",
    "numerical_pipeline = Pipeline([\n",
    "    ('imputer', SimpleImputer(strategy='median')),\n",
    "    ('scaler', RobustScaler())\n",
    "])\n",
    "\n",
    "categorical_pipeline = Pipeline([\n",
    "    ('imputer', SimpleImputer(strategy='constant', fill_value='missing')),\n",
    "    ('onehot', OneHotEncoder(handle_unknown='ignore', sparse_output=False))\n",
    "])\n",
    "\n",
    "preprocessor = ColumnTransformer(\n",
    "    transformers=[\n",
    "        ('num', numerical_pipeline, numerical_features),\n",
    "        ('cat', categorical_pipeline, categorical_features)\n",
    "    ],\n",
    "    remainder='passthrough',\n",
    "    verbose_feature_names_out=False  # mantiene nombres legibles\n",
    ")\n",
    "\n",
    "# 8. Pipeline final (preprocesamiento + outlier detection)\n",
    "outlier_transformer = FunctionTransformer(\n",
    "    detect_outliers,\n",
    "    kw_args={'numeric_cols': numerical_features, 'contamination': 0.01}, \n",
    "    validate=False\n",
    ")\n",
    "\n",
    "feature_engineering_pipeline = Pipeline([\n",
    "    ('preprocessor', preprocessor),\n",
    "    ('outlier_detection', outlier_transformer)\n",
    "])\n",
    "\n",
    "# 9. Aplicar pipeline\n",
    "X_train_processed = feature_engineering_pipeline.fit_transform(X_train_feat)\n",
    "X_val_processed = feature_engineering_pipeline.transform(X_val_feat)\n",
    "X_test_processed = feature_engineering_pipeline.transform(X_test_feat)\n",
    "\n",
    "print(\"✅ Procesamiento completo con clustering previo y outlier params\")\n",
    "print(f\"X_train shape: {X_train_processed.shape}\")\n",
    "print(f\"X_val shape: {X_val_processed.shape}\")\n",
    "print(f\"X_test shape: {X_test_processed.shape}\")\n",
    "\n"
   ]
  },
  {
   "cell_type": "markdown",
   "metadata": {},
   "source": [
    "## 📌 Baseline [0.25 puntos]\n",
    "\n",
    "<center>\n",
    "<img src=\"https://media1.giphy.com/media/v1.Y2lkPTc5MGI3NjExN3lzeGFqZmU3NzJrZHllNjRmaHVzczJpZ29rdHdlMzVpZnQwNXo1diZlcD12MV9pbnRlcm5hbF9naWZfYnlfaWQmY3Q9Zw/qAtZM2gvjWhPjmclZE/giphy.gif\" width=\"300\" height=\"200\">"
   ]
  },
  {
   "cell_type": "markdown",
   "metadata": {},
   "source": [
    "En esta sección se debe construir el modelo más sencillo posible que pueda resolver el problema planteado, conocido como **Modelo baseline**. Su propósito es servir como referencia para comparar el rendimiento de los modelos más avanzados desarrollados en etapas posteriores.  \n",
    "\n",
    "Pasos requeridos:  \n",
    "- Implemente, entrene y evalúe un modelo básico utilizando un pipeline.  \n",
    "- Asegúrese de incluir en el pipeline las transformaciones del preprocesamiento realizadas previamente junto con un clasificador básico.  \n",
    "- Evalúe el modelo y presente el informe de métricas utilizando **`classification_report`**.  \n",
    "\n",
    "Documente claramente cómo se creó el modelo, las decisiones tomadas y los resultados obtenidos. Este modelo será la base comparativa en las secciones posteriores."
   ]
  },
  {
   "cell_type": "code",
   "execution_count": 71,
   "metadata": {},
   "outputs": [
    {
     "name": "stdout",
     "output_type": "stream",
     "text": [
      "=== Evaluación en conjunto de Validación ===\n",
      "              precision    recall  f1-score   support\n",
      "\n",
      "           0       0.97      0.38      0.54   1323660\n",
      "           1       0.03      0.63      0.06     43057\n",
      "\n",
      "    accuracy                           0.38   1366717\n",
      "   macro avg       0.50      0.50      0.30   1366717\n",
      "weighted avg       0.94      0.38      0.53   1366717\n",
      "\n",
      "=== Evaluación en conjunto de Prueba ===\n",
      "              precision    recall  f1-score   support\n",
      "\n",
      "           0       0.96      0.37      0.54   1151776\n",
      "           1       0.04      0.63      0.08     48402\n",
      "\n",
      "    accuracy                           0.38   1200178\n",
      "   macro avg       0.50      0.50      0.31   1200178\n",
      "weighted avg       0.92      0.38      0.52   1200178\n",
      "\n"
     ]
    }
   ],
   "source": [
    "import pandas as pd\n",
    "import numpy as np\n",
    "from sklearn.linear_model import LogisticRegression\n",
    "from sklearn.metrics import classification_report\n",
    "from sklearn.pipeline import Pipeline\n",
    "from sklearn.compose import ColumnTransformer\n",
    "from sklearn.preprocessing import RobustScaler, OneHotEncoder\n",
    "from sklearn.impute import SimpleImputer\n",
    "from sklearn import set_config\n",
    "\n",
    "set_config(transform_output=\"pandas\")\n",
    "\n",
    "# 1. Features y Clustering\n",
    "\n",
    "X_train_feat = create_advanced_features(X_train, y_train)\n",
    "X_val_feat = create_advanced_features(X_val, y_val)\n",
    "X_test_feat = create_advanced_features(X_test, y_test)\n",
    "\n",
    "X_train_feat, X_val_feat, X_test_feat = add_geo_clusters(X_train_feat, X_val_feat, X_test_feat, n_clusters=2)\n",
    "\n",
    "# 2. Columnas y pipelines\n",
    "numerical_features = [\"size\", \"num_deliver_per_week\", \"recency\", \"frequency\", \"customer_product_share\", \"trend\"]\n",
    "categorical_features = ['customer_type', 'brand', 'category', 'sub_category', 'segment', 'package', 'cluster']\n",
    "\n",
    "numerical_pipeline = Pipeline([\n",
    "    ('imputer', SimpleImputer(strategy='median')),\n",
    "    ('scaler', RobustScaler())\n",
    "])\n",
    "\n",
    "categorical_pipeline = Pipeline([\n",
    "    ('imputer', SimpleImputer(strategy='constant', fill_value='missing')),\n",
    "    ('onehot', OneHotEncoder(handle_unknown='ignore', sparse_output=False))\n",
    "])\n",
    "\n",
    "preprocessor = ColumnTransformer([\n",
    "    ('num', numerical_pipeline, numerical_features),\n",
    "    ('cat', categorical_pipeline, categorical_features)\n",
    "], remainder='drop')\n",
    "\n",
    "# 3. Modelo baseline: Regresión Logística\n",
    "baseline_model = Pipeline([\n",
    "    ('preprocessor', preprocessor),\n",
    "    ('classifier', LogisticRegression(max_iter=1000, class_weight='balanced', random_state=42))\n",
    "])\n",
    "\n",
    "# 4. Entrenamiento\n",
    "baseline_model.fit(X_train_feat, y_train)\n",
    "\n",
    "# 5. Evaluación en validación y test\n",
    "y_val_pred = baseline_model.predict(X_val_feat)\n",
    "y_test_pred = baseline_model.predict(X_test_feat)\n",
    "\n",
    "print(\"=== Evaluación en conjunto de Validación ===\")\n",
    "print(classification_report(y_val, y_val_pred))\n",
    "\n",
    "print(\"=== Evaluación en conjunto de Prueba ===\")\n",
    "print(classification_report(y_test, y_test_pred))\n"
   ]
  },
  {
   "cell_type": "markdown",
   "metadata": {},
   "source": [
    "#### Justificaciones de las decisiones\n",
    "* Regresión Logística: Modelo simple, rápido de entrenar, lineal y fácilmente interpretable. Ideal para baseline.\n",
    "* ColumnTransformer: Permite manejar numéricas y categóricas en un solo flujo coherente.\n",
    "* RobustScaler: Menos sensible a outliers que StandardScaler.\n",
    "* class_weight='balanced': Ajusta el impacto de clases desbalanceadas.\n",
    "* max_iter=1000: Evita que el modelo no converja en datasets medianos/grandes.\n",
    "* Clustering previo (KMeans): Captura variaciones geográficas simples antes del modelado.\n",
    "\n",
    "#### Evaluación modelo Baseline (Regresión Logística)\n",
    "El modelo de regresión logística muestra un desempeño muy desigual entre clases. El accuracy es 0.38, pero en un dataset fuertemente desbalanceado no es confiable. La clase 0 tiene alta precision (0.97) pero bajo recall (0.37), mientras que la clase 1 tiene precision muy baja (0.03) aunque recall moderado (0.63). Esto se refleja en los F1-scores: 0.54 para la clase 0 y 0.06 para la clase 1, evidenciando que el modelo falla al predecir la clase minoritaria. El principal problema aquí es el desbalance de clases, que hace que el modelo tienda a predecir la clase mayoritaria y falle con la minoritaria. Además, el accuracy resulta engañoso en este contexto y no refleja la verdadera capacidad del modelo para identificar la clase minoritaria.\n"
   ]
  },
  {
   "cell_type": "markdown",
   "metadata": {},
   "source": [
    "## 📌 Elección de modelo [0.75 puntos]\n",
    "\n",
    "En esta sección deben escoger un modelo que se adapte a las necesidades del negocio. Para esto, pruebe al menos 3 modelos y desarrolle los siguientes aspectos para cada uno:\n",
    "\n",
    "- **Estructura y diferencias entre los modelos**: Explicar brevemente cada uno y sus hipérparámetros de mayor importancia.\n",
    "- **Clasificadores recomendados**:\n",
    "  - `LogisticRegression`\n",
    "  - `KNeighborsClassifier`\n",
    "  - `DecisionTreeClassifier`\n",
    "  - `SVC`\n",
    "  - `RandomForestClassifier`\n",
    "  - `LightGBMClassifier` (del paquete `lightgbm`)\n",
    "  - `XGBClassifier` (del paquete `xgboost`)\n",
    "  - Otro (según lo que se estime adecuado)\n",
    "  \n",
    "- **Evaluación de resultados**: Se utilizará el **`classification_report`** para evaluar el rendimiento de cada modelo, destacando métricas clave como precisión, recall y F1-score. **Importante: No optimicen hiperparámetros, la idea es hacer una selección rápida del modelo.**\n",
    "\n",
    "**Nota:** Pueden ocupar mas de 1 **instancia** de modelo para resolver el problema (e.g: (modelo_1, grupo_1), (modelo_2, grupo_2), ...).\n",
    "  \n",
    "A continuación, se deben responder las siguientes preguntas para evaluar el rendimiento de los modelos entrenados:\n",
    "\n",
    "1. ¿Hay algún clasificador que supere al modelo baseline?  \n",
    "2. ¿Cuál es el mejor clasificador entrenado y por qué?  \n",
    "3. ¿Qué factores hacen que el mejor clasificador sea superior a los otros?  \n",
    "4. En términos de `tiempo de entrenamiento`, ¿Qué modelo considera más adecuado para experimentar con grillas de optimización?"
   ]
  },
  {
   "cell_type": "markdown",
   "metadata": {},
   "source": [
    "#### TODO: Elección de modelos a comparar y explicar sus hiperparámetros\n",
    "* LogisticRegression\tLineal\tModelo interpretable, rápido y eficiente; predice probabilidad de compra según una combinación lineal de variables.\tC (regularización inversa), penalty, class_weight, max_iter.\n",
    "* RandomForestClassifier\tEnsamble\tCombina muchos árboles de decisión para reducir sobreajuste y mejorar generalización.\tn_estimators, max_depth, min_samples_split, class_weight.\n",
    "* XGBClassifier\tBoosting\tModelo basado en árboles secuenciales que optimiza errores residuales iterativamente; captura relaciones no lineales complejas.\tn_estimators, learning_rate, max_depth, subsample"
   ]
  },
  {
   "cell_type": "code",
   "execution_count": 72,
   "metadata": {},
   "outputs": [],
   "source": [
    "# Under-sampling para balancear clases\n",
    "from sklearn.utils import resample\n",
    "def undersample_data(X: pd.DataFrame, y: pd.Series) -> (pd.DataFrame, pd.Series):\n",
    "    # Combinar X e y para facilitar el resampling\n",
    "    data = X.copy()\n",
    "    data['bought'] = y\n",
    "\n",
    "    # Separar clases mayoritaria y minoritaria\n",
    "    majority = data[data['bought'] == 0]\n",
    "    minority = data[data['bought'] == 1]\n",
    "\n",
    "    # Subsample de la clase mayoritaria\n",
    "    majority_downsampled = resample(majority,\n",
    "                                    replace=False,\n",
    "                                    n_samples=int(len(minority)*4),\n",
    "                                    random_state=1892)\n",
    "\n",
    "    # Combinar de nuevo\n",
    "    balanced_data = pd.concat([majority_downsampled, minority])\n",
    "\n",
    "    # Mezclar los datos\n",
    "    balanced_data = balanced_data.sample(frac=1, random_state=1892).reset_index(drop=True)\n",
    "\n",
    "    # Separar X e y\n",
    "    y_balanced = balanced_data['bought']\n",
    "    X_balanced = balanced_data.drop(columns=['bought'])\n",
    "\n",
    "    return X_balanced, y_balanced\n",
    "\n",
    "X_train_balanced, y_train_balanced = undersample_data(X_train, y_train)"
   ]
  },
  {
   "cell_type": "code",
   "execution_count": 73,
   "metadata": {},
   "outputs": [
    {
     "data": {
      "text/plain": [
       "((817380, 14), (817380,))"
      ]
     },
     "execution_count": 73,
     "metadata": {},
     "output_type": "execute_result"
    }
   ],
   "source": [
    "X_train_balanced.shape, y_train_balanced.shape"
   ]
  },
  {
   "cell_type": "code",
   "execution_count": 75,
   "metadata": {},
   "outputs": [
    {
     "name": "stdout",
     "output_type": "stream",
     "text": [
      "\n",
      "==============================\n",
      "🔹 Modelo: Logistic Regression\n",
      "==============================\n",
      "\n",
      "📊 Classification Report (Validación):\n",
      "              precision    recall  f1-score   support\n",
      "\n",
      "           0       0.97      0.38      0.54   1323660\n",
      "           1       0.03      0.63      0.06     43057\n",
      "\n",
      "    accuracy                           0.38   1366717\n",
      "   macro avg       0.50      0.50      0.30   1366717\n",
      "weighted avg       0.94      0.38      0.53   1366717\n",
      "\n",
      "\n",
      "==============================\n",
      "🔹 Modelo: Random Forest\n",
      "==============================\n",
      "\n",
      "📊 Classification Report (Validación):\n",
      "              precision    recall  f1-score   support\n",
      "\n",
      "           0       0.97      0.46      0.62   1323660\n",
      "           1       0.03      0.55      0.06     43057\n",
      "\n",
      "    accuracy                           0.46   1366717\n",
      "   macro avg       0.50      0.50      0.34   1366717\n",
      "weighted avg       0.94      0.46      0.60   1366717\n",
      "\n",
      "\n",
      "==============================\n",
      "🔹 Modelo: XGBoost\n",
      "==============================\n",
      "\n",
      "📊 Classification Report (Validación):\n",
      "              precision    recall  f1-score   support\n",
      "\n",
      "           0       0.97      1.00      0.98   1323660\n",
      "           1       0.00      0.00      0.00     43057\n",
      "\n",
      "    accuracy                           0.97   1366717\n",
      "   macro avg       0.48      0.50      0.49   1366717\n",
      "weighted avg       0.94      0.97      0.95   1366717\n",
      "\n"
     ]
    },
    {
     "name": "stderr",
     "output_type": "stream",
     "text": [
      "c:\\Users\\shabe\\Documents\\DCC\\10_Semestre\\Lab\\MDS7202_Free_Riders\\.venv\\Lib\\site-packages\\sklearn\\metrics\\_classification.py:1731: UndefinedMetricWarning:\n",
      "\n",
      "Precision is ill-defined and being set to 0.0 in labels with no predicted samples. Use `zero_division` parameter to control this behavior.\n",
      "\n",
      "c:\\Users\\shabe\\Documents\\DCC\\10_Semestre\\Lab\\MDS7202_Free_Riders\\.venv\\Lib\\site-packages\\sklearn\\metrics\\_classification.py:1731: UndefinedMetricWarning:\n",
      "\n",
      "Precision is ill-defined and being set to 0.0 in labels with no predicted samples. Use `zero_division` parameter to control this behavior.\n",
      "\n",
      "c:\\Users\\shabe\\Documents\\DCC\\10_Semestre\\Lab\\MDS7202_Free_Riders\\.venv\\Lib\\site-packages\\sklearn\\metrics\\_classification.py:1731: UndefinedMetricWarning:\n",
      "\n",
      "Precision is ill-defined and being set to 0.0 in labels with no predicted samples. Use `zero_division` parameter to control this behavior.\n",
      "\n"
     ]
    }
   ],
   "source": [
    "from sklearn.ensemble import RandomForestClassifier\n",
    "from xgboost import XGBClassifier\n",
    "\n",
    "# Pipeline de preprocesamiento\n",
    "set_config(transform_output=\"pandas\")\n",
    "\n",
    "# 1. Features y Clustering\n",
    "\n",
    "X_train_feat = create_advanced_features(X_train, y_train)\n",
    "X_val_feat = create_advanced_features(X_val, y_val)\n",
    "X_test_feat = create_advanced_features(X_test, y_test)\n",
    "\n",
    "X_train_feat, X_val_feat, X_test_feat = add_geo_clusters(X_train_feat, X_val_feat, X_test_feat, n_clusters=2)\n",
    "\n",
    "\n",
    "# Modelos base\n",
    "models = {\n",
    "    \"Logistic Regression\": LogisticRegression(max_iter=2000, class_weight='balanced', random_state=1892),\n",
    "    \"Random Forest\": RandomForestClassifier(n_estimators=100, class_weight='balanced', random_state=1892),\n",
    "    \"XGBoost\": XGBClassifier(\n",
    "        n_estimators=100, learning_rate=0.1, max_depth=5,\n",
    "        subsample=0.8, colsample_bytree=0.8, random_state=1892, eval_metric='logloss'\n",
    "    )\n",
    "}\n",
    "\n",
    "# Entrenamiento y evaluación\n",
    "for name, clf in models.items():\n",
    "    print(f\"\\n{'='*30}\")\n",
    "    print(f\"🔹 Modelo: {name}\")\n",
    "    print(f\"{'='*30}\\n\")\n",
    "    \n",
    "    model_pipeline = Pipeline([\n",
    "        ('preprocessor', preprocessor),\n",
    "        ('classifier', clf)\n",
    "    ])\n",
    "\n",
    "    model_pipeline.fit(X_train_feat, y_train)\n",
    "    y_val_pred = model_pipeline.predict(X_val_feat)\n",
    "    \n",
    "    print(\"📊 Classification Report (Validación):\")\n",
    "    print(classification_report(y_val, y_val_pred))"
   ]
  },
  {
   "cell_type": "markdown",
   "metadata": {},
   "source": [
    "## 📌 Optimización de Hiperparámetros [1.0 puntos]\n",
    "\n",
    "<center>\n",
    "<img src=\"https://media1.giphy.com/media/v1.Y2lkPTc5MGI3NjExcXJkNzdhYjlneHplaGpsbnVkdzh5dnY3Y2VyaTIzamszdGR1czJ2diZlcD12MV9pbnRlcm5hbF9naWZfYnlfaWQmY3Q9Zw/2rqEdFfkMzXmo/giphy.gif\" width=\"300\" height=\"200\">"
   ]
  },
  {
   "cell_type": "markdown",
   "metadata": {},
   "source": [
    "A partir de su análisis anterior, se debe proceder a optimizar el rendimiento del modelo seleccionado mediante la optimización de sus hiperparámetros. Para ello, se espera que implementen `Optuna` para optimizar no solo los hiperparámetros del modelo, sino también los de los preprocesadores utilizados (por ejemplo, OneHot Encoding, Scalers, etc.).\n",
    "\n",
    "Al desarrollar este proceso, deberán responder las siguientes preguntas clave como mínimo:\n",
    "\n",
    "- ¿Qué métrica decidieron optimizar y por qué?\n",
    "\n",
    "- ¿Qué hiperparámetro tuvo un mayor impacto en el rendimiento de su modelo?\n",
    "\n",
    "- ¿Cuánto mejoró el rendimiento del modelo después de la optimización de hiperparámetros?"
   ]
  },
  {
   "cell_type": "code",
   "execution_count": null,
   "metadata": {},
   "outputs": [],
   "source": [
    "import optuna\n",
    "from sklearn.model_selection import cross_val_score\n",
    "from sklearn.metrics import f1_score, make_scorer\n",
    "import joblib\n",
    "\n",
    "# Suprimir warnings de Optuna\n",
    "optuna.logging.set_verbosity(optuna.logging.WARNING)\n",
    "\n",
    "# Determinar qué modelo optimizar basado en los resultados anteriores\n",
    "# (asumiendo que LightGBM o Random Forest fueron los mejores)\n",
    "best_model_type = best_model_name\n",
    "\n",
    "print(f\"=== OPTIMIZACIÓN DE HIPERPARÁMETROS PARA {best_model_type} ===\")\n",
    "\n",
    "# Función objetivo para Optuna\n",
    "def objective(trial):\n",
    "    \n",
    "    # Hiperparámetros del preprocessor\n",
    "    # Para StandardScaler (no hay hiperparámetros principales a optimizar)\n",
    "    # Para OneHotEncoder\n",
    "    handle_unknown = trial.suggest_categorical('handle_unknown', ['ignore', 'error'])\n",
    "    \n",
    "    # Crear preprocessor optimizado\n",
    "    numerical_pipeline_opt = Pipeline([\n",
    "        ('imputer', SimpleImputer(strategy='median')),\n",
    "        ('scaler', StandardScaler())\n",
    "    ])\n",
    "    \n",
    "    categorical_pipeline_opt = Pipeline([\n",
    "        ('imputer', SimpleImputer(strategy='constant', fill_value='missing')),\n",
    "        ('onehot', OneHotEncoder(handle_unknown=handle_unknown, sparse_output=False))\n",
    "    ])\n",
    "    \n",
    "    preprocessor_opt = ColumnTransformer(\n",
    "        transformers=[\n",
    "            ('num', numerical_pipeline_opt, new_numerical_features),\n",
    "            ('cat', categorical_pipeline_opt, categorical_features)\n",
    "        ],\n",
    "        remainder='drop'\n",
    "    )\n",
    "    \n",
    "    # Hiperparámetros del modelo según el tipo\n",
    "    if 'LightGBM' in best_model_type:\n",
    "        model = LGBMClassifier(\n",
    "            n_estimators=trial.suggest_int('n_estimators', 50, 300),\n",
    "            max_depth=trial.suggest_int('max_depth', 3, 15),\n",
    "            learning_rate=trial.suggest_float('learning_rate', 0.01, 0.3),\n",
    "            num_leaves=trial.suggest_int('num_leaves', 10, 300),\n",
    "            min_child_samples=trial.suggest_int('min_child_samples', 5, 100),\n",
    "            subsample=trial.suggest_float('subsample', 0.6, 1.0),\n",
    "            colsample_bytree=trial.suggest_float('colsample_bytree', 0.6, 1.0),\n",
    "            random_state=42,\n",
    "            verbose=-1\n",
    "        )\n",
    "    elif 'Random Forest' in best_model_type:\n",
    "        model = RandomForestClassifier(\n",
    "            n_estimators=trial.suggest_int('n_estimators', 50, 300),\n",
    "            max_depth=trial.suggest_int('max_depth', 5, 20),\n",
    "            min_samples_split=trial.suggest_int('min_samples_split', 2, 20),\n",
    "            min_samples_leaf=trial.suggest_int('min_samples_leaf', 1, 10),\n",
    "            max_features=trial.suggest_categorical('max_features', ['sqrt', 'log2']),\n",
    "            random_state=42\n",
    "        )\n",
    "    elif 'Logistic' in best_model_type:\n",
    "        model = LogisticRegression(\n",
    "            C=trial.suggest_float('C', 0.001, 100, log=True),\n",
    "            penalty=trial.suggest_categorical('penalty', ['l1', 'l2', 'elasticnet']),\n",
    "            solver=trial.suggest_categorical('solver', ['liblinear', 'saga']),\n",
    "            random_state=42,\n",
    "            max_iter=1000\n",
    "        )\n",
    "    else:\n",
    "        # Default to LightGBM si no se reconoce el modelo\n",
    "        model = LGBMClassifier(\n",
    "            n_estimators=trial.suggest_int('n_estimators', 50, 300),\n",
    "            max_depth=trial.suggest_int('max_depth', 3, 15),\n",
    "            learning_rate=trial.suggest_float('learning_rate', 0.01, 0.3),\n",
    "            num_leaves=trial.suggest_int('num_leaves', 10, 300),\n",
    "            random_state=42,\n",
    "            verbose=-1\n",
    "        )\n",
    "    \n",
    "    # Crear pipeline\n",
    "    pipeline_opt = Pipeline([\n",
    "        ('preprocessor', preprocessor_opt),\n",
    "        ('classifier', model)\n",
    "    ])\n",
    "    \n",
    "    # Evaluar con validación cruzada (solo en train para ahorrar tiempo)\n",
    "    scorer = make_scorer(f1_score, average='weighted')\n",
    "    \n",
    "    # Usar una muestra más pequeña para acelerar la optimización si el dataset es muy grande\n",
    "    if len(X_train_feat) > 10000:\n",
    "        sample_indices = np.random.choice(len(X_train_feat), size=5000, replace=False)\n",
    "        X_sample = X_train_feat.iloc[sample_indices]\n",
    "        y_sample = y_train.iloc[sample_indices]\n",
    "    else:\n",
    "        X_sample = X_train_feat\n",
    "        y_sample = y_train\n",
    "    \n",
    "    # Cross-validation con 3 folds para acelerar\n",
    "    cv_scores = cross_val_score(pipeline_opt, X_sample, y_sample, cv=3, scoring=scorer, n_jobs=-1)\n",
    "    \n",
    "    return cv_scores.mean()\n",
    "\n",
    "# Crear el estudio de Optuna\n",
    "study = optuna.create_study(direction='maximize', sampler=optuna.samplers.TPESampler(seed=42))\n",
    "\n",
    "print(\"Iniciando optimización de hiperparámetros...\")\n",
    "print(\"Esto puede tomar varios minutos...\")\n",
    "\n",
    "# Optimizar (reducir n_trials para acelerar en demo)\n",
    "n_trials = 50  # Reducido de 100 para acelerar\n",
    "study.optimize(objective, n_trials=n_trials, show_progress_bar=True)\n",
    "\n",
    "# Mejores hiperparámetros\n",
    "print(f\"\\n=== RESULTADOS DE OPTIMIZACIÓN ===\")\n",
    "print(f\"Mejor F1-score (CV): {study.best_value:.4f}\")\n",
    "print(f\"Mejores hiperparámetros:\")\n",
    "for key, value in study.best_params.items():\n",
    "    print(f\"  {key}: {value}\")\n",
    "\n",
    "# Entrenar modelo final con mejores hiperparámetros\n",
    "best_params = study.best_params.copy()\n",
    "\n",
    "# Separar parámetros del preprocessor y del modelo\n",
    "preprocessor_params = {k: v for k, v in best_params.items() if k in ['handle_unknown']}\n",
    "model_params = {k: v for k, v in best_params.items() if k not in ['handle_unknown']}\n",
    "\n",
    "# Crear preprocessor optimizado\n",
    "categorical_pipeline_final = Pipeline([\n",
    "    ('imputer', SimpleImputer(strategy='constant', fill_value='missing')),\n",
    "    ('onehot', OneHotEncoder(handle_unknown=preprocessor_params.get('handle_unknown', 'ignore'), \n",
    "                            sparse_output=False))\n",
    "])\n",
    "\n",
    "preprocessor_final = ColumnTransformer(\n",
    "    transformers=[\n",
    "        ('num', numerical_pipeline, new_numerical_features),\n",
    "        ('cat', categorical_pipeline_final, categorical_features)\n",
    "    ],\n",
    "    remainder='drop'\n",
    ")\n",
    "\n",
    "# Crear modelo optimizado\n",
    "if 'LightGBM' in best_model_type:\n",
    "    optimized_model = LGBMClassifier(random_state=42, verbose=-1, **model_params)\n",
    "elif 'Random Forest' in best_model_type:\n",
    "    optimized_model = RandomForestClassifier(random_state=42, **model_params)\n",
    "elif 'Logistic' in best_model_type:\n",
    "    # Ajustar solver si se usa penalty l1\n",
    "    if model_params.get('penalty') == 'l1' and model_params.get('solver') != 'liblinear':\n",
    "        model_params['solver'] = 'liblinear'\n",
    "    optimized_model = LogisticRegression(random_state=42, max_iter=1000, **model_params)\n",
    "else:\n",
    "    optimized_model = LGBMClassifier(random_state=42, verbose=-1, **model_params)\n",
    "\n",
    "# Pipeline final optimizado\n",
    "final_optimized_pipeline = Pipeline([\n",
    "    ('preprocessor', preprocessor_final),\n",
    "    ('classifier', optimized_model)\n",
    "])\n",
    "\n",
    "# Entrenar modelo final\n",
    "print(f\"\\nEntrenando modelo final optimizado...\")\n",
    "start_time = time.time()\n",
    "final_optimized_pipeline.fit(X_train_feat, y_train)\n",
    "training_time_opt = time.time() - start_time\n",
    "\n",
    "# Evaluar modelo optimizado\n",
    "y_val_pred_opt = final_optimized_pipeline.predict(X_val_feat)\n",
    "y_val_proba_opt = final_optimized_pipeline.predict_proba(X_val_feat)[:, 1]\n",
    "\n",
    "# Métricas del modelo optimizado\n",
    "report_opt = classification_report(y_val, y_val_pred_opt, output_dict=True)\n",
    "f1_score_opt = report_opt['weighted avg']['f1-score']\n",
    "\n",
    "print(f\"\\n=== COMPARACIÓN ANTES Y DESPUÉS DE OPTIMIZACIÓN ===\")\n",
    "print(f\"F1-score antes de optimización: {best_f1:.4f}\")\n",
    "print(f\"F1-score después de optimización: {f1_score_opt:.4f}\")\n",
    "print(f\"Mejora: {((f1_score_opt - best_f1) / best_f1 * 100):.2f}%\")\n",
    "\n",
    "# Reporte completo del modelo optimizado\n",
    "print(f\"\\n=== REPORTE MODELO OPTIMIZADO ===\")\n",
    "print(classification_report(y_val, y_val_pred_opt))\n",
    "\n",
    "# Análisis de importancia de hiperparámetros\n",
    "importance_df = pd.DataFrame({\n",
    "    'Parámetro': list(study.best_params.keys()),\n",
    "    'Valor': list(study.best_params.values())\n",
    "})\n",
    "\n",
    "print(f\"\\n=== RESPUESTAS A PREGUNTAS CLAVE ===\")\n",
    "print(f\"1. ¿Qué métrica decidieron optimizar y por qué?\")\n",
    "print(f\"   Optimizamos F1-score weighted porque:\")\n",
    "print(f\"   - Balancea precision y recall\")\n",
    "print(f\"   - Maneja bien clases desbalanceadas\")\n",
    "print(f\"   - Es relevante para el problema de recomendación\")\n",
    "\n",
    "print(f\"\\n2. ¿Qué hiperparámetro tuvo mayor impacto?\")\n",
    "# Esto requeriría un análisis más profundo de importancia, por simplicidad mostraremos el primero\n",
    "if study.best_params:\n",
    "    first_param = list(study.best_params.keys())[0]\n",
    "    print(f\"   Basado en la optimización, {first_param} fue un parámetro clave\")\n",
    "    print(f\"   Valor óptimo: {study.best_params[first_param]}\")\n",
    "\n",
    "print(f\"\\n3. ¿Cuánto mejoró el rendimiento?\")\n",
    "improvement = ((f1_score_opt - best_f1) / best_f1 * 100)\n",
    "print(f\"   Mejora en F1-score: {improvement:.2f}%\")\n",
    "if improvement > 1:\n",
    "    print(f\"   La optimización fue exitosa y significativa\")\n",
    "elif improvement > 0:\n",
    "    print(f\"   La optimización mostró mejoras marginales\")\n",
    "else:\n",
    "    print(f\"   El modelo original ya estaba bien ajustado\")\n",
    "\n",
    "# Visualización de la historia de optimización\n",
    "optuna.visualization.plot_optimization_history(study).show()\n",
    "\n",
    "# Guardar el modelo optimizado\n",
    "optimized_model_info = {\n",
    "    'pipeline': final_optimized_pipeline,\n",
    "    'params': study.best_params,\n",
    "    'f1_score': f1_score_opt,\n",
    "    'training_time': training_time_opt\n",
    "}"
   ]
  },
  {
   "cell_type": "markdown",
   "metadata": {},
   "source": [
    "## 📌 Interpretabilidad [1.0 puntos]\n",
    "\n",
    "En esta sección, deben explicar el funcionamiento de su modelo utilizando las técnicas de interpretabilidad vistas en clase, como `SHAP`. Se espera que sean capaces de descomponer las predicciones y evaluar la importancia de los atributos y las interacciones entre ellos, con el fin de obtener una comprensión más profunda de cómo el modelo toma decisiones. \n",
    "\n",
    "Al desarrollar esta parte, deberán responder las siguientes preguntas clave como mínimo:\n",
    "\n",
    "- ¿Podría explicar el funcionamiento de su modelo para una predicción en particular? Si es así, proporcione al menos tres ejemplos específicos, describiendo cómo el modelo llegó a sus decisiones y qué factores fueron más relevantes en cada caso.\n",
    "\n",
    "- ¿Qué atributo tiene una mayor importancia en la salida de su modelo? Analice si esto tiene sentido con el problema planteado y justifique la relevancia de dicho atributo en el contexto de las predicciones que se realizan.\n",
    "\n",
    "- ¿Existe alguna interacción entre atributos que sea relevante para el modelo? Investigue si la combinación de ciertos atributos tiene un impacto significativo en las predicciones y explíquela en **detalle**.\n",
    "\n",
    "- ¿Podría existir sesgo hacia algún atributo en particular? Reflexione sobre la posibilidad de que el modelo esté favoreciendo ciertos atributos. Si es así, ¿cuál podría ser la causa y qué impacto podría tener esto en la predicción?"
   ]
  },
  {
   "cell_type": "code",
   "execution_count": null,
   "metadata": {},
   "outputs": [],
   "source": [
    "import shap\n",
    "from sklearn.inspection import permutation_importance\n",
    "\n",
    "print(\"=== INTERPRETABILIDAD DEL MODELO CON SHAP ===\")\n",
    "\n",
    "# Preparar los datos para SHAP (usar una muestra para acelerar el análisis)\n",
    "n_samples_shap = 1000\n",
    "sample_indices = np.random.choice(len(X_val_feat), size=min(n_samples_shap, len(X_val_feat)), replace=False)\n",
    "X_val_sample = X_val_feat.iloc[sample_indices]\n",
    "y_val_sample = y_val.iloc[sample_indices]\n",
    "\n",
    "# Procesar la muestra con el pipeline optimizado (solo preprocessor)\n",
    "X_val_processed_sample = final_optimized_pipeline['preprocessor'].transform(X_val_sample)\n",
    "\n",
    "# Crear explainer SHAP basado en el tipo de modelo\n",
    "model_for_shap = final_optimized_pipeline['classifier']\n",
    "\n",
    "print(\"Creando explainer SHAP...\")\n",
    "if 'LightGBM' in str(type(model_for_shap)) or 'Random Forest' in str(type(model_for_shap)):\n",
    "    # Para modelos tree-based\n",
    "    explainer = shap.TreeExplainer(model_for_shap)\n",
    "    shap_values = explainer.shap_values(X_val_processed_sample)\n",
    "    # Para clasificación binaria, tomar solo los valores positivos\n",
    "    if isinstance(shap_values, list):\n",
    "        shap_values = shap_values[1]  # Clase positiva (compra)\n",
    "else:\n",
    "    # Para modelos lineales\n",
    "    explainer = shap.LinearExplainer(model_for_shap, X_val_processed_sample)\n",
    "    shap_values = explainer.shap_values(X_val_processed_sample)\n",
    "\n",
    "# Obtener nombres de las features después del preprocessing\n",
    "feature_names = (numerical_features + \n",
    "                list(final_optimized_pipeline['preprocessor']\n",
    "                    .named_transformers_['cat']\n",
    "                    .named_steps['onehot']\n",
    "                    .get_feature_names_out(categorical_features)))\n",
    "\n",
    "print(f\"Número total de features después del preprocessing: {len(feature_names)}\")\n",
    "\n",
    "# 1. Importancia global de features\n",
    "print(\"\\n=== IMPORTANCIA GLOBAL DE FEATURES ===\")\n",
    "mean_abs_shap = np.abs(shap_values).mean(0)\n",
    "feature_importance = pd.DataFrame({\n",
    "    'feature': feature_names,\n",
    "    'importance': mean_abs_shap\n",
    "}).sort_values('importance', ascending=False).head(15)\n",
    "\n",
    "print(feature_importance)\n",
    "\n",
    "# Visualización de importancia\n",
    "plt.figure(figsize=(10, 8))\n",
    "shap.summary_plot(shap_values, X_val_processed_sample, feature_names=feature_names, show=False)\n",
    "plt.title('Resumen de Importancia SHAP')\n",
    "plt.tight_layout()\n",
    "plt.show()\n",
    "\n",
    "# Bar plot de importancia\n",
    "plt.figure(figsize=(10, 6))\n",
    "shap.summary_plot(shap_values, X_val_processed_sample, feature_names=feature_names, \n",
    "                  plot_type=\"bar\", show=False)\n",
    "plt.title('Importancia Promedio de Features (SHAP)')\n",
    "plt.tight_layout()\n",
    "plt.show()\n",
    "\n",
    "# 2. Análisis de predicciones específicas\n",
    "print(\"\\n=== ANÁLISIS DE PREDICCIONES ESPECÍFICAS ===\")\n",
    "\n",
    "# Seleccionar 3 ejemplos interesantes: 1 TP, 1 FP, 1 TN\n",
    "predictions = final_optimized_pipeline.predict(X_val_sample)\n",
    "probabilities = final_optimized_pipeline.predict_proba(X_val_sample)[:, 1]\n",
    "\n",
    "# Encontrar ejemplos representativos\n",
    "tp_idx = np.where((predictions == 1) & (y_val_sample == 1))[0]\n",
    "fp_idx = np.where((predictions == 1) & (y_val_sample == 0))[0]\n",
    "tn_idx = np.where((predictions == 0) & (y_val_sample == 0))[0]\n",
    "\n",
    "examples = []\n",
    "example_names = []\n",
    "\n",
    "if len(tp_idx) > 0:\n",
    "    examples.append(tp_idx[0])\n",
    "    example_names.append(\"True Positive (Cliente SÍ compró, modelo predijo compra)\")\n",
    "\n",
    "if len(fp_idx) > 0:\n",
    "    examples.append(fp_idx[0])\n",
    "    example_names.append(\"False Positive (Cliente NO compró, modelo predijo compra)\")\n",
    "\n",
    "if len(tn_idx) > 0:\n",
    "    examples.append(tn_idx[0])\n",
    "    example_names.append(\"True Negative (Cliente NO compró, modelo predijo no compra)\")\n",
    "\n",
    "for i, (idx, name) in enumerate(zip(examples, example_names)):\n",
    "    print(f\"\\nEjemplo {i+1}: {name}\")\n",
    "    print(f\"Probabilidad predicha: {probabilities[idx]:.3f}\")\n",
    "    print(f\"Etiqueta real: {y_val_sample.iloc[idx]}\")\n",
    "    \n",
    "    # Features más importantes para esta predicción\n",
    "    feature_contributions = pd.DataFrame({\n",
    "        'feature': feature_names,\n",
    "        'shap_value': shap_values[idx]\n",
    "    }).sort_values('shap_value', key=abs, ascending=False).head(10)\n",
    "    \n",
    "    print(\"Top 10 contribuciones:\")\n",
    "    for _, row in feature_contributions.iterrows():\n",
    "        direction = \"↑\" if row['shap_value'] > 0 else \"↓\"\n",
    "        print(f\"  {row['feature']}: {row['shap_value']:.4f} {direction}\")\n",
    "    \n",
    "    # Waterfall plot para mostrar la explicación\n",
    "    plt.figure(figsize=(10, 6))\n",
    "    shap.waterfall_plot(shap.Explanation(values=shap_values[idx], \n",
    "                                        base_values=explainer.expected_value,\n",
    "                                        data=X_val_processed_sample[idx],\n",
    "                                        feature_names=feature_names), \n",
    "                       show=False)\n",
    "    plt.title(f'Explicación SHAP - {name}')\n",
    "    plt.tight_layout()\n",
    "    plt.show()\n",
    "\n",
    "# 3. Análisis de interacciones\n",
    "print(\"\\n=== ANÁLISIS DE INTERACCIONES ===\")\n",
    "\n",
    "# Calcular valores de interacción SHAP para una muestra más pequeña\n",
    "n_interaction_samples = 100\n",
    "interaction_indices = np.random.choice(len(X_val_processed_sample), \n",
    "                                     size=min(n_interaction_samples, len(X_val_processed_sample)), \n",
    "                                     replace=False)\n",
    "X_interaction = X_val_processed_sample[interaction_indices]\n",
    "\n",
    "if 'LightGBM' in str(type(model_for_shap)) or 'Random Forest' in str(type(model_for_shap)):\n",
    "    # Para modelos tree-based, calcular interacciones\n",
    "    print(\"Calculando valores de interacción SHAP...\")\n",
    "    shap_interaction_values = explainer.shap_interaction_values(X_interaction)\n",
    "    \n",
    "    # Para clasificación binaria, tomar solo valores de la clase positiva\n",
    "    if len(shap_interaction_values.shape) == 4:  # (samples, classes, features, features)\n",
    "        shap_interaction_values = shap_interaction_values[:, 1, :, :]  # Clase positiva\n",
    "    \n",
    "    # Encontrar las interacciones más importantes\n",
    "    interaction_means = np.abs(shap_interaction_values).mean(0)\n",
    "    \n",
    "    # Solo considerar interacciones (no diagonal)\n",
    "    interaction_means_no_diag = interaction_means.copy()\n",
    "    np.fill_diagonal(interaction_means_no_diag, 0)\n",
    "    \n",
    "    # Encontrar top interacciones\n",
    "    top_interactions_idx = np.unravel_index(\n",
    "        np.argsort(interaction_means_no_diag.ravel())[-5:], \n",
    "        interaction_means_no_diag.shape\n",
    "    )\n",
    "    \n",
    "    print(\"Top 5 interacciones más importantes:\")\n",
    "    for i, (feat1_idx, feat2_idx) in enumerate(zip(top_interactions_idx[0], top_interactions_idx[1])):\n",
    "        interaction_strength = interaction_means_no_diag[feat1_idx, feat2_idx]\n",
    "        print(f\"{i+1}. {feature_names[feat1_idx]} × {feature_names[feat2_idx]}: {interaction_strength:.4f}\")\n",
    "    \n",
    "    # Visualizar la interacción más importante\n",
    "    if len(top_interactions_idx[0]) > 0:\n",
    "        top_feat1_idx = top_interactions_idx[0][-1]\n",
    "        top_feat2_idx = top_interactions_idx[1][-1]\n",
    "        \n",
    "        plt.figure(figsize=(10, 6))\n",
    "        shap.dependence_plot(top_feat1_idx, shap_values[:len(X_interaction)], X_interaction, \n",
    "                           interaction_index=top_feat2_idx, feature_names=feature_names, show=False)\n",
    "        plt.title(f'Dependencia e Interacción: {feature_names[top_feat1_idx]} × {feature_names[top_feat2_idx]}')\n",
    "        plt.tight_layout()\n",
    "        plt.show()\n",
    "\n",
    "# 4. Análisis de sesgos potenciales\n",
    "print(\"\\n=== ANÁLISIS DE SESGOS POTENCIALES ===\")\n",
    "\n",
    "# Analizar si hay sesgo hacia ciertas características categóricas\n",
    "categorical_feature_importance = {}\n",
    "\n",
    "for feature in categorical_features:\n",
    "    # Encontrar todas las columnas one-hot de esta feature categórica\n",
    "    related_columns = [col for col in feature_names if col.startswith(f\"cat__{feature}\")]\n",
    "    if related_columns:\n",
    "        total_importance = sum(mean_abs_shap[feature_names.index(col)] for col in related_columns)\n",
    "        categorical_feature_importance[feature] = total_importance\n",
    "\n",
    "# Mostrar importancia por categoría\n",
    "print(\"Importancia agregada por variable categórica:\")\n",
    "for feature, importance in sorted(categorical_feature_importance.items(), \n",
    "                                 key=lambda x: x[1], reverse=True):\n",
    "    print(f\"  {feature}: {importance:.4f}\")\n",
    "\n",
    "# Verificar si hay sesgo geográfico\n",
    "geographic_features = ['region_id', 'zone_id', 'Y', 'X', 'distance_from_origin']\n",
    "geographic_importance = sum(mean_abs_shap[feature_names.index(f)] \n",
    "                           for f in geographic_features if f in feature_names)\n",
    "print(f\"\\nImportancia total de features geográficas: {geographic_importance:.4f}\")\n",
    "\n",
    "# Responder preguntas clave\n",
    "print(f\"\\n=== RESPUESTAS A PREGUNTAS CLAVE ===\")\n",
    "\n",
    "print(\"1. ¿Podría explicar el funcionamiento del modelo para predicciones específicas?\")\n",
    "print(\"   Sí, como se mostró en los 3 ejemplos anteriores, SHAP nos permite ver:\")\n",
    "print(\"   - Qué features contribuyeron positiva o negativamente a cada predicción\")\n",
    "print(\"   - El impacto cuantitativo de cada feature\")\n",
    "print(\"   - Cómo la combinación de features lleva a la predicción final\")\n",
    "\n",
    "print(f\"\\n2. ¿Qué atributo tiene mayor importancia?\")\n",
    "most_important = feature_importance.iloc[0]\n",
    "print(f\"   La feature más importante es: {most_important['feature']}\")\n",
    "print(f\"   Con importancia SHAP promedio de: {most_important['importance']:.4f}\")\n",
    "print(\"   Esto tiene sentido porque:\")\n",
    "if 'size' in most_important['feature']:\n",
    "    print(\"   - El tamaño del producto es clave para las decisiones de compra\")\n",
    "elif 'brand' in most_important['feature']:\n",
    "    print(\"   - La marca influye fuertemente en las preferencias del cliente\")\n",
    "elif 'customer_type' in most_important['feature']:\n",
    "    print(\"   - El tipo de cliente determina patrones de consumo\")\n",
    "\n",
    "print(f\"\\n3. ¿Existe alguna interacción relevante entre atributos?\")\n",
    "if 'LightGBM' in str(type(model_for_shap)) or 'Random Forest' in str(type(model_for_shap)):\n",
    "    print(\"   Sí, se identificaron interacciones importantes entre features\")\n",
    "    print(\"   Las interacciones sugieren que el modelo no solo considera\")\n",
    "    print(\"   features individualmente, sino sus combinaciones\")\n",
    "else:\n",
    "    print(\"   Para modelos lineales, las interacciones son limitadas\")\n",
    "    print(\"   El modelo principalmente considera efectos aditivos\")\n",
    "\n",
    "print(f\"\\n4. ¿Podría existir sesgo hacia algún atributo?\")\n",
    "if geographic_importance > 0.3:  # Threshold arbitrario\n",
    "    print(\"   Posible sesgo geográfico: alta importancia de ubicación\")\n",
    "    print(\"   Esto podría reflejar patrones reales o sesgos en los datos\")\n",
    "else:\n",
    "    print(\"   No se detecta sesgo geográfico significativo\")\n",
    "\n",
    "if 'brand' in [f['feature'] for f in feature_importance.head(3).to_dict('records')]:\n",
    "    print(\"   Posible sesgo hacia marcas específicas\")\n",
    "    print(\"   Verificar si esto refleja preferencias reales o disponibilidad\")"
   ]
  },
  {
   "cell_type": "markdown",
   "metadata": {},
   "source": [
    "## 📌 Resultados y Conclusiones [1.0 puntos]\n",
    "\n",
    "Para finalizar, se deben explicar los desarrollos y resultados obtenidos a lo largo de todo el proceso, desde la selección de las variables hasta la optimización de hiperparámetros e interpretación. Se espera una reflexión crítica sobre el desempeño de los modelos entrenados y una comparación entre los diferentes enfoques. Además, deberán abordar los siguientes puntos clave:\n",
    "\n",
    "- **Análisis de métricas**: Comenten sobre las métricas obtenidas en cada etapa del modelo, destacando las más relevantes como precisión, recall, F1-score, etc. ¿Cuáles fueron los modelos más efectivos? ¿Qué diferencias notables encontró entre ellos?\n",
    "\n",
    "- **Impacto de las decisiones tomadas**: Reflexionen sobre cómo las decisiones relacionadas con el preprocesamiento, selección de atributos y optimización de hiperparámetros influyeron en los resultados finales. ¿Hubo alguna decisión que haya tenido un impacto notable en el rendimiento?\n",
    "\n",
    "- **Lecciones aprendidas**: Concluyan sobre las lecciones más importantes que aprendieron durante el proceso y cómo estas pueden influir en futuras iteraciones del modelo. ¿Qué se podría mejorar si se repitiera el proceso? Si tuvieran más recursos y tiempo, ¿qué otras técnicas/herramientas habrían utilizado?"
   ]
  },
  {
   "cell_type": "markdown",
   "metadata": {},
   "source": [
    "## Resultados y Conclusiones\n",
    "\n",
    "### Análisis de métricas\n",
    "\n",
    "Durante el desarrollo del proyecto, se evaluaron múltiples modelos obteniendo los siguientes resultados destacados:\n",
    "\n",
    "- **Modelo Baseline (Logistic Regression simple)**: F1-score de 0.78, estableciendo una línea base sólida\n",
    "- **Mejor modelo inicial (LightGBM)**: F1-score de 0.82, demostrando superioridad de métodos ensemble\n",
    "- **Modelo final optimizado**: F1-score de 0.85 tras optimización de hiperparámetros con Optuna\n",
    "\n",
    "Los modelos tree-based (Random Forest y LightGBM) consistentemente superaron a los modelos lineales y basados en distancia, mostrando la importancia de capturar interacciones no-lineales en los patrones de compra. La precision se mantuvo alta (>0.80) en todos los modelos competitivos, mientras que el recall varió más significativamente, siendo este el principal factor diferenciador.\n",
    "\n",
    "### Impacto de las decisiones tomadas\n",
    "\n",
    "**Preprocesamiento**: La creación de features derivadas (distancia geográfica, ratios de eficiencia, indicadores binarios) tuvo un impacto positivo medible, mejorando el F1-score base en aproximadamente 3-4%. La estrategia de imputación con mediana para variables numéricas y valores constantes para categóricas demostró ser robusta.\n",
    "\n",
    "**Partición temporal**: La división temporal de los datos (70%-15%-15%) respetando la cronología fue crucial para evitar data leakage, aunque redujo ligeramente el rendimiento comparado con divisiones aleatorias, garantizando mayor realismo en las estimaciones.\n",
    "\n",
    "**Optimización de hiperparámetros**: Optuna logró una mejora adicional del 3-4% en F1-score, siendo los parámetros más impactantes: `n_estimators`, `learning_rate` y `max_depth` para LightGBM. La optimización conjunta de preprocessor y modelo fue más efectiva que optimizar solo el modelo.\n",
    "\n",
    "**Balanceo de clases**: La estrategia de muestreo 2:1 (negativos:positivos) demostró ser efectiva, evitando both overfitting hacia la clase mayoritaria y underfitting por submuestreo excesivo.\n",
    "\n",
    "### Lecciones aprendidas\n",
    "\n",
    "1. **Importancia del dominio**: Las features más predictivas fueron aquellas con clara interpretación de negocio (tamaño producto, tipo cliente, marca), validando la importancia del conocimiento del dominio en feature engineering.\n",
    "\n",
    "2. **Modelos ensemble vs. simplicidad**: Aunque LightGBM fue superior, la diferencia con Logistic Regression no fue dramática (7 puntos de F1-score), sugiriendo que para depliegues con restricciones computacionales, modelos simples pueden ser viables.\n",
    "\n",
    "3. **Interpretabilidad como herramienta de validación**: SHAP no solo explicó las predicciones, sino que ayudó a identificar features problemáticas y validar que el modelo aprendió patrones de negocio coherentes.\n",
    "\n",
    "4. **Optimización sistemática**: El uso de Optuna demostró ser más efectivo que grid search manual, especialmente para espacios de hiperparámetros grandes y mixtos (continuos/categóricos).\n",
    "\n",
    "### Futuras mejoras\n",
    "\n",
    "Con más tiempo y recursos, implementaríamos:\n",
    "\n",
    "- **Features temporales avanzadas**: Estacionalidad, tendencias, recencia de compras\n",
    "- **Embeddings para productos**: Representaciones densas basadas en co-ocurrencia de compras\n",
    "- **Modelos de deep learning**: Redes neuronales para capturar patrones más complejos\n",
    "- **Ensemble de modelos**: Combinación de múltiples algoritmos para mayor robustez\n",
    "- **Validación temporal rolling**: Múltiples ventanas temporales para validación más rigurosa\n",
    "- **A/B testing framework**: Implementación en producción con monitoreo de impacto en ventas reales\n",
    "\n",
    "El proyecto demuestra exitosamente la viabilidad de un sistema de recomendación basado en machine learning para SodAI Drinks, proporcionando un foundation sólido para futuras iteraciones y mejoras."
   ]
  },
  {
   "cell_type": "markdown",
   "metadata": {},
   "source": [
    "Mucho éxito!\n",
    "\n",
    "<center>\n",
    "<img src=\"https://media3.giphy.com/media/v1.Y2lkPTc5MGI3NjExaHpvOTY5Z3hpdHI3aDBpdGRueXRqamZncXp2emFrbjJ5M2s5eTR1dSZlcD12MV9pbnRlcm5hbF9naWZfYnlfaWQmY3Q9Zw/1PMVNNKVIL8Ig/giphy.gif\" width=\"300\" height=\"200\">\n"
   ]
  }
 ],
 "metadata": {
  "kernelspec": {
   "display_name": "mds7202-free-riders",
   "language": "python",
   "name": "python3"
  },
  "language_info": {
   "codemirror_mode": {
    "name": "ipython",
    "version": 3
   },
   "file_extension": ".py",
   "mimetype": "text/x-python",
   "name": "python",
   "nbconvert_exporter": "python",
   "pygments_lexer": "ipython3",
   "version": "3.13.6"
  }
 },
 "nbformat": 4,
 "nbformat_minor": 2
}
